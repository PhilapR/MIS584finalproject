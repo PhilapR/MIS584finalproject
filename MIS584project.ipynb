{
 "cells": [
  {
   "cell_type": "code",
   "execution_count": 1,
   "metadata": {},
   "outputs": [],
   "source": [
    "import twitter\n",
    "\n",
    "#---------------------------------------------\n",
    "# Define a Function to Login Twitter API\n",
    "\n",
    "\n",
    "def oauth_login():\n",
    "   # These numbers are linked to my account and allow me to utilize the twitter API\n",
    "    CONSUMER_KEY = 'gCWdCixlcrIFTyrYFej64p88r'\n",
    "    CONSUMER_SECRET = 'FdtNHEJak2dV8L3EaS6JniQGnsECkf8YshGe8iLwXxrxAjH1BF'\n",
    "    BEARER = \"AAAAAAAAAAAAAAAAAAAAAKBjOQEAAAAAnqWaxWZsf53T2zfohDuKCqerlPM%3D5iaVyEYBDn3ypumzv7f62R4Q9hRMAyV554wG1dhhRvAXDPsB2O\"\n",
    "    OAUTH_TOKEN = '1268941562-dlyypvsZhZxKngcu40SltOxORBDPcEPxzUJjmbO'\n",
    "    OAUTH_TOKEN_SECRET = 'rFPzlfuOFVpINtV6BjwIrfAP1J5ip5pVqw3ZXqoDIXqNT'\n",
    "\n",
    "    auth = twitter.oauth.OAuth(OAUTH_TOKEN, OAUTH_TOKEN_SECRET,\n",
    "                               CONSUMER_KEY, CONSUMER_SECRET)\n",
    "\n",
    "    twitter_api = twitter.Twitter(auth=auth)\n",
    "    return twitter_api\n",
    "\n",
    "\n",
    "#The below function loads in the data from twitter. q is the query term, count represents how many tweets to grab at once. \n",
    "def getData(q, count):\n",
    "    search_results = twitter_api.search.tweets(q=q, count=count, lang='en')\n",
    "\n",
    "    statuses = search_results['statuses']\n",
    "    print(len(statuses))\n",
    "\n",
    "# Iterate through for a total of 10 batches of results by following the cursor\n",
    "\n",
    "    for _ in range(10):\n",
    "        print(\"Length of statuses\", len(statuses))\n",
    "        try:\n",
    "            next_results = search_results['search_metadata']['next_results']\n",
    "            print(next_results)\n",
    "        except KeyError:  # No more results when next_results doesn't exist\n",
    "            break\n",
    "\n",
    "    # Create a dictionary from next_results, which has the following form:\n",
    "    # ?max_id=313519052523986943&q=NCAA&include_entities=1\n",
    "        kwargs = dict([kv.split('=') for kv in next_results[1:].split(\"&\")])\n",
    "        print(kwargs)\n",
    "\n",
    "        search_results = twitter_api.search.tweets(**kwargs)\n",
    "        statuses += search_results['statuses']\n",
    "\n",
    "    return statuses\n"
   ]
  },
  {
   "cell_type": "code",
   "execution_count": 2,
   "metadata": {},
   "outputs": [],
   "source": [
    "twitter_api = oauth_login()\n"
   ]
  },
  {
   "cell_type": "code",
   "execution_count": 17,
   "metadata": {},
   "outputs": [],
   "source": [
    "def getTimeline():\n",
    "    res = twitter_api.statuses.user_timeline(screen_name = \"glossier\")\n",
    "    return res"
   ]
  },
  {
   "cell_type": "code",
   "execution_count": 18,
   "metadata": {},
   "outputs": [],
   "source": [
    "timeline = getTimeline()"
   ]
  },
  {
   "cell_type": "code",
   "execution_count": 22,
   "metadata": {},
   "outputs": [
    {
     "data": {
      "text/plain": [
       "[{'created_at': 'Thu Dec 02 15:01:47 +0000 2021',\n",
       "  'id': 1466422349591416833,\n",
       "  'id_str': '1466422349591416833',\n",
       "  'text': \"@Spookymelon_ DM us and we're here to help!\",\n",
       "  'truncated': False,\n",
       "  'entities': {'hashtags': [],\n",
       "   'symbols': [],\n",
       "   'user_mentions': [{'screen_name': 'Spookymelon_',\n",
       "     'name': 'spooky melon',\n",
       "     'id': 932507942569566209,\n",
       "     'id_str': '932507942569566209',\n",
       "     'indices': [0, 13]}],\n",
       "   'urls': []},\n",
       "  'source': '<a href=\"http://www.falcon.io\" rel=\"nofollow\">Falcon Social Media Management </a>',\n",
       "  'in_reply_to_status_id': 1466421032999342100,\n",
       "  'in_reply_to_status_id_str': '1466421032999342100',\n",
       "  'in_reply_to_user_id': 932507942569566209,\n",
       "  'in_reply_to_user_id_str': '932507942569566209',\n",
       "  'in_reply_to_screen_name': 'Spookymelon_',\n",
       "  'user': {'id': 2610470250,\n",
       "   'id_str': '2610470250',\n",
       "   'name': 'Glossier',\n",
       "   'screen_name': 'glossier',\n",
       "   'location': 'New York, NY',\n",
       "   'description': 'Glossier Inc. is a people-powered beauty ecosystem ✨ Skin first, makeup second 😀👋',\n",
       "   'url': 'https://t.co/vBG3TkkpyS',\n",
       "   'entities': {'url': {'urls': [{'url': 'https://t.co/vBG3TkkpyS',\n",
       "       'expanded_url': 'http://glossier.com',\n",
       "       'display_url': 'glossier.com',\n",
       "       'indices': [0, 23]}]},\n",
       "    'description': {'urls': []}},\n",
       "   'protected': False,\n",
       "   'followers_count': 107170,\n",
       "   'friends_count': 1404,\n",
       "   'listed_count': 442,\n",
       "   'created_at': 'Mon Jul 07 21:24:44 +0000 2014',\n",
       "   'favourites_count': 31575,\n",
       "   'utc_offset': None,\n",
       "   'time_zone': None,\n",
       "   'geo_enabled': True,\n",
       "   'verified': True,\n",
       "   'statuses_count': 16870,\n",
       "   'lang': None,\n",
       "   'contributors_enabled': False,\n",
       "   'is_translator': False,\n",
       "   'is_translation_enabled': False,\n",
       "   'profile_background_color': 'C0DEED',\n",
       "   'profile_background_image_url': 'http://abs.twimg.com/images/themes/theme1/bg.png',\n",
       "   'profile_background_image_url_https': 'https://abs.twimg.com/images/themes/theme1/bg.png',\n",
       "   'profile_background_tile': False,\n",
       "   'profile_image_url': 'http://pbs.twimg.com/profile_images/1128355031508500483/LKhVroAj_normal.jpg',\n",
       "   'profile_image_url_https': 'https://pbs.twimg.com/profile_images/1128355031508500483/LKhVroAj_normal.jpg',\n",
       "   'profile_banner_url': 'https://pbs.twimg.com/profile_banners/2610470250/1469237546',\n",
       "   'profile_link_color': '1DA1F2',\n",
       "   'profile_sidebar_border_color': 'C0DEED',\n",
       "   'profile_sidebar_fill_color': 'DDEEF6',\n",
       "   'profile_text_color': '333333',\n",
       "   'profile_use_background_image': True,\n",
       "   'has_extended_profile': False,\n",
       "   'default_profile': True,\n",
       "   'default_profile_image': False,\n",
       "   'following': False,\n",
       "   'follow_request_sent': False,\n",
       "   'notifications': False,\n",
       "   'translator_type': 'none',\n",
       "   'withheld_in_countries': []},\n",
       "  'geo': None,\n",
       "  'coordinates': None,\n",
       "  'place': None,\n",
       "  'contributors': None,\n",
       "  'is_quote_status': False,\n",
       "  'retweet_count': 0,\n",
       "  'favorite_count': 0,\n",
       "  'favorited': False,\n",
       "  'retweeted': False,\n",
       "  'lang': 'en'},\n",
       " {'created_at': 'Wed Dec 01 14:48:14 +0000 2021',\n",
       "  'id': 1466056549412003843,\n",
       "  'id_str': '1466056549412003843',\n",
       "  'text': \"@chloeannelillia So sorry about this! DM us with your GLO number and we'd be happy to help\\xa0👍\",\n",
       "  'truncated': False,\n",
       "  'entities': {'hashtags': [],\n",
       "   'symbols': [],\n",
       "   'user_mentions': [{'screen_name': 'chloeannelillia',\n",
       "     'name': 'chloé',\n",
       "     'id': 97279430,\n",
       "     'id_str': '97279430',\n",
       "     'indices': [0, 16]}],\n",
       "   'urls': []},\n",
       "  'source': '<a href=\"http://www.falcon.io\" rel=\"nofollow\">Falcon Social Media Management </a>',\n",
       "  'in_reply_to_status_id': 1465848228918796290,\n",
       "  'in_reply_to_status_id_str': '1465848228918796290',\n",
       "  'in_reply_to_user_id': 97279430,\n",
       "  'in_reply_to_user_id_str': '97279430',\n",
       "  'in_reply_to_screen_name': 'chloeannelillia',\n",
       "  'user': {'id': 2610470250,\n",
       "   'id_str': '2610470250',\n",
       "   'name': 'Glossier',\n",
       "   'screen_name': 'glossier',\n",
       "   'location': 'New York, NY',\n",
       "   'description': 'Glossier Inc. is a people-powered beauty ecosystem ✨ Skin first, makeup second 😀👋',\n",
       "   'url': 'https://t.co/vBG3TkkpyS',\n",
       "   'entities': {'url': {'urls': [{'url': 'https://t.co/vBG3TkkpyS',\n",
       "       'expanded_url': 'http://glossier.com',\n",
       "       'display_url': 'glossier.com',\n",
       "       'indices': [0, 23]}]},\n",
       "    'description': {'urls': []}},\n",
       "   'protected': False,\n",
       "   'followers_count': 107170,\n",
       "   'friends_count': 1404,\n",
       "   'listed_count': 442,\n",
       "   'created_at': 'Mon Jul 07 21:24:44 +0000 2014',\n",
       "   'favourites_count': 31575,\n",
       "   'utc_offset': None,\n",
       "   'time_zone': None,\n",
       "   'geo_enabled': True,\n",
       "   'verified': True,\n",
       "   'statuses_count': 16870,\n",
       "   'lang': None,\n",
       "   'contributors_enabled': False,\n",
       "   'is_translator': False,\n",
       "   'is_translation_enabled': False,\n",
       "   'profile_background_color': 'C0DEED',\n",
       "   'profile_background_image_url': 'http://abs.twimg.com/images/themes/theme1/bg.png',\n",
       "   'profile_background_image_url_https': 'https://abs.twimg.com/images/themes/theme1/bg.png',\n",
       "   'profile_background_tile': False,\n",
       "   'profile_image_url': 'http://pbs.twimg.com/profile_images/1128355031508500483/LKhVroAj_normal.jpg',\n",
       "   'profile_image_url_https': 'https://pbs.twimg.com/profile_images/1128355031508500483/LKhVroAj_normal.jpg',\n",
       "   'profile_banner_url': 'https://pbs.twimg.com/profile_banners/2610470250/1469237546',\n",
       "   'profile_link_color': '1DA1F2',\n",
       "   'profile_sidebar_border_color': 'C0DEED',\n",
       "   'profile_sidebar_fill_color': 'DDEEF6',\n",
       "   'profile_text_color': '333333',\n",
       "   'profile_use_background_image': True,\n",
       "   'has_extended_profile': False,\n",
       "   'default_profile': True,\n",
       "   'default_profile_image': False,\n",
       "   'following': False,\n",
       "   'follow_request_sent': False,\n",
       "   'notifications': False,\n",
       "   'translator_type': 'none',\n",
       "   'withheld_in_countries': []},\n",
       "  'geo': None,\n",
       "  'coordinates': None,\n",
       "  'place': None,\n",
       "  'contributors': None,\n",
       "  'is_quote_status': False,\n",
       "  'retweet_count': 0,\n",
       "  'favorite_count': 0,\n",
       "  'favorited': False,\n",
       "  'retweeted': False,\n",
       "  'lang': 'en'},\n",
       " {'created_at': 'Wed Dec 01 14:47:36 +0000 2021',\n",
       "  'id': 1466056391999868930,\n",
       "  'id_str': '1466056391999868930',\n",
       "  'text': \"@BreathingAgain DM us and we'd be happy to help take a look\\xa0👍\",\n",
       "  'truncated': False,\n",
       "  'entities': {'hashtags': [],\n",
       "   'symbols': [],\n",
       "   'user_mentions': [{'screen_name': 'BreathingAgain',\n",
       "     'name': 'Breathing Again',\n",
       "     'id': 23724424,\n",
       "     'id_str': '23724424',\n",
       "     'indices': [0, 15]}],\n",
       "   'urls': []},\n",
       "  'source': '<a href=\"http://www.falcon.io\" rel=\"nofollow\">Falcon Social Media Management </a>',\n",
       "  'in_reply_to_status_id': 1465900303438524416,\n",
       "  'in_reply_to_status_id_str': '1465900303438524416',\n",
       "  'in_reply_to_user_id': 23724424,\n",
       "  'in_reply_to_user_id_str': '23724424',\n",
       "  'in_reply_to_screen_name': 'BreathingAgain',\n",
       "  'user': {'id': 2610470250,\n",
       "   'id_str': '2610470250',\n",
       "   'name': 'Glossier',\n",
       "   'screen_name': 'glossier',\n",
       "   'location': 'New York, NY',\n",
       "   'description': 'Glossier Inc. is a people-powered beauty ecosystem ✨ Skin first, makeup second 😀👋',\n",
       "   'url': 'https://t.co/vBG3TkkpyS',\n",
       "   'entities': {'url': {'urls': [{'url': 'https://t.co/vBG3TkkpyS',\n",
       "       'expanded_url': 'http://glossier.com',\n",
       "       'display_url': 'glossier.com',\n",
       "       'indices': [0, 23]}]},\n",
       "    'description': {'urls': []}},\n",
       "   'protected': False,\n",
       "   'followers_count': 107170,\n",
       "   'friends_count': 1404,\n",
       "   'listed_count': 442,\n",
       "   'created_at': 'Mon Jul 07 21:24:44 +0000 2014',\n",
       "   'favourites_count': 31575,\n",
       "   'utc_offset': None,\n",
       "   'time_zone': None,\n",
       "   'geo_enabled': True,\n",
       "   'verified': True,\n",
       "   'statuses_count': 16870,\n",
       "   'lang': None,\n",
       "   'contributors_enabled': False,\n",
       "   'is_translator': False,\n",
       "   'is_translation_enabled': False,\n",
       "   'profile_background_color': 'C0DEED',\n",
       "   'profile_background_image_url': 'http://abs.twimg.com/images/themes/theme1/bg.png',\n",
       "   'profile_background_image_url_https': 'https://abs.twimg.com/images/themes/theme1/bg.png',\n",
       "   'profile_background_tile': False,\n",
       "   'profile_image_url': 'http://pbs.twimg.com/profile_images/1128355031508500483/LKhVroAj_normal.jpg',\n",
       "   'profile_image_url_https': 'https://pbs.twimg.com/profile_images/1128355031508500483/LKhVroAj_normal.jpg',\n",
       "   'profile_banner_url': 'https://pbs.twimg.com/profile_banners/2610470250/1469237546',\n",
       "   'profile_link_color': '1DA1F2',\n",
       "   'profile_sidebar_border_color': 'C0DEED',\n",
       "   'profile_sidebar_fill_color': 'DDEEF6',\n",
       "   'profile_text_color': '333333',\n",
       "   'profile_use_background_image': True,\n",
       "   'has_extended_profile': False,\n",
       "   'default_profile': True,\n",
       "   'default_profile_image': False,\n",
       "   'following': False,\n",
       "   'follow_request_sent': False,\n",
       "   'notifications': False,\n",
       "   'translator_type': 'none',\n",
       "   'withheld_in_countries': []},\n",
       "  'geo': None,\n",
       "  'coordinates': None,\n",
       "  'place': None,\n",
       "  'contributors': None,\n",
       "  'is_quote_status': False,\n",
       "  'retweet_count': 0,\n",
       "  'favorite_count': 0,\n",
       "  'favorited': False,\n",
       "  'retweeted': False,\n",
       "  'lang': 'en'},\n",
       " {'created_at': 'Wed Dec 01 14:46:36 +0000 2021',\n",
       "  'id': 1466056140626837510,\n",
       "  'id_str': '1466056140626837510',\n",
       "  'text': '@viceversailles 👀🇬🇧',\n",
       "  'truncated': False,\n",
       "  'entities': {'hashtags': [],\n",
       "   'symbols': [],\n",
       "   'user_mentions': [{'screen_name': 'viceversailles',\n",
       "     'name': 'Anna Muradova',\n",
       "     'id': 82667202,\n",
       "     'id_str': '82667202',\n",
       "     'indices': [0, 15]}],\n",
       "   'urls': []},\n",
       "  'source': '<a href=\"http://www.falcon.io\" rel=\"nofollow\">Falcon Social Media Management </a>',\n",
       "  'in_reply_to_status_id': 1466030866656858115,\n",
       "  'in_reply_to_status_id_str': '1466030866656858115',\n",
       "  'in_reply_to_user_id': 82667202,\n",
       "  'in_reply_to_user_id_str': '82667202',\n",
       "  'in_reply_to_screen_name': 'viceversailles',\n",
       "  'user': {'id': 2610470250,\n",
       "   'id_str': '2610470250',\n",
       "   'name': 'Glossier',\n",
       "   'screen_name': 'glossier',\n",
       "   'location': 'New York, NY',\n",
       "   'description': 'Glossier Inc. is a people-powered beauty ecosystem ✨ Skin first, makeup second 😀👋',\n",
       "   'url': 'https://t.co/vBG3TkkpyS',\n",
       "   'entities': {'url': {'urls': [{'url': 'https://t.co/vBG3TkkpyS',\n",
       "       'expanded_url': 'http://glossier.com',\n",
       "       'display_url': 'glossier.com',\n",
       "       'indices': [0, 23]}]},\n",
       "    'description': {'urls': []}},\n",
       "   'protected': False,\n",
       "   'followers_count': 107170,\n",
       "   'friends_count': 1404,\n",
       "   'listed_count': 442,\n",
       "   'created_at': 'Mon Jul 07 21:24:44 +0000 2014',\n",
       "   'favourites_count': 31575,\n",
       "   'utc_offset': None,\n",
       "   'time_zone': None,\n",
       "   'geo_enabled': True,\n",
       "   'verified': True,\n",
       "   'statuses_count': 16870,\n",
       "   'lang': None,\n",
       "   'contributors_enabled': False,\n",
       "   'is_translator': False,\n",
       "   'is_translation_enabled': False,\n",
       "   'profile_background_color': 'C0DEED',\n",
       "   'profile_background_image_url': 'http://abs.twimg.com/images/themes/theme1/bg.png',\n",
       "   'profile_background_image_url_https': 'https://abs.twimg.com/images/themes/theme1/bg.png',\n",
       "   'profile_background_tile': False,\n",
       "   'profile_image_url': 'http://pbs.twimg.com/profile_images/1128355031508500483/LKhVroAj_normal.jpg',\n",
       "   'profile_image_url_https': 'https://pbs.twimg.com/profile_images/1128355031508500483/LKhVroAj_normal.jpg',\n",
       "   'profile_banner_url': 'https://pbs.twimg.com/profile_banners/2610470250/1469237546',\n",
       "   'profile_link_color': '1DA1F2',\n",
       "   'profile_sidebar_border_color': 'C0DEED',\n",
       "   'profile_sidebar_fill_color': 'DDEEF6',\n",
       "   'profile_text_color': '333333',\n",
       "   'profile_use_background_image': True,\n",
       "   'has_extended_profile': False,\n",
       "   'default_profile': True,\n",
       "   'default_profile_image': False,\n",
       "   'following': False,\n",
       "   'follow_request_sent': False,\n",
       "   'notifications': False,\n",
       "   'translator_type': 'none',\n",
       "   'withheld_in_countries': []},\n",
       "  'geo': None,\n",
       "  'coordinates': None,\n",
       "  'place': None,\n",
       "  'contributors': None,\n",
       "  'is_quote_status': False,\n",
       "  'retweet_count': 0,\n",
       "  'favorite_count': 2,\n",
       "  'favorited': False,\n",
       "  'retweeted': False,\n",
       "  'lang': 'und'},\n",
       " {'created_at': 'Wed Dec 01 14:45:56 +0000 2021',\n",
       "  'id': 1466055973567713286,\n",
       "  'id_str': '1466055973567713286',\n",
       "  'text': '@PinkYetiCup DM us with your GLO number and we can help take a look\\xa0👍',\n",
       "  'truncated': False,\n",
       "  'entities': {'hashtags': [],\n",
       "   'symbols': [],\n",
       "   'user_mentions': [{'screen_name': 'PinkYetiCup',\n",
       "     'name': 'Real Housewife of Avalon',\n",
       "     'id': 1064271796382416900,\n",
       "     'id_str': '1064271796382416900',\n",
       "     'indices': [0, 12]}],\n",
       "   'urls': []},\n",
       "  'source': '<a href=\"http://www.falcon.io\" rel=\"nofollow\">Falcon Social Media Management </a>',\n",
       "  'in_reply_to_status_id': 1465943330441900032,\n",
       "  'in_reply_to_status_id_str': '1465943330441900032',\n",
       "  'in_reply_to_user_id': 1064271796382416900,\n",
       "  'in_reply_to_user_id_str': '1064271796382416900',\n",
       "  'in_reply_to_screen_name': 'PinkYetiCup',\n",
       "  'user': {'id': 2610470250,\n",
       "   'id_str': '2610470250',\n",
       "   'name': 'Glossier',\n",
       "   'screen_name': 'glossier',\n",
       "   'location': 'New York, NY',\n",
       "   'description': 'Glossier Inc. is a people-powered beauty ecosystem ✨ Skin first, makeup second 😀👋',\n",
       "   'url': 'https://t.co/vBG3TkkpyS',\n",
       "   'entities': {'url': {'urls': [{'url': 'https://t.co/vBG3TkkpyS',\n",
       "       'expanded_url': 'http://glossier.com',\n",
       "       'display_url': 'glossier.com',\n",
       "       'indices': [0, 23]}]},\n",
       "    'description': {'urls': []}},\n",
       "   'protected': False,\n",
       "   'followers_count': 107170,\n",
       "   'friends_count': 1404,\n",
       "   'listed_count': 442,\n",
       "   'created_at': 'Mon Jul 07 21:24:44 +0000 2014',\n",
       "   'favourites_count': 31575,\n",
       "   'utc_offset': None,\n",
       "   'time_zone': None,\n",
       "   'geo_enabled': True,\n",
       "   'verified': True,\n",
       "   'statuses_count': 16870,\n",
       "   'lang': None,\n",
       "   'contributors_enabled': False,\n",
       "   'is_translator': False,\n",
       "   'is_translation_enabled': False,\n",
       "   'profile_background_color': 'C0DEED',\n",
       "   'profile_background_image_url': 'http://abs.twimg.com/images/themes/theme1/bg.png',\n",
       "   'profile_background_image_url_https': 'https://abs.twimg.com/images/themes/theme1/bg.png',\n",
       "   'profile_background_tile': False,\n",
       "   'profile_image_url': 'http://pbs.twimg.com/profile_images/1128355031508500483/LKhVroAj_normal.jpg',\n",
       "   'profile_image_url_https': 'https://pbs.twimg.com/profile_images/1128355031508500483/LKhVroAj_normal.jpg',\n",
       "   'profile_banner_url': 'https://pbs.twimg.com/profile_banners/2610470250/1469237546',\n",
       "   'profile_link_color': '1DA1F2',\n",
       "   'profile_sidebar_border_color': 'C0DEED',\n",
       "   'profile_sidebar_fill_color': 'DDEEF6',\n",
       "   'profile_text_color': '333333',\n",
       "   'profile_use_background_image': True,\n",
       "   'has_extended_profile': False,\n",
       "   'default_profile': True,\n",
       "   'default_profile_image': False,\n",
       "   'following': False,\n",
       "   'follow_request_sent': False,\n",
       "   'notifications': False,\n",
       "   'translator_type': 'none',\n",
       "   'withheld_in_countries': []},\n",
       "  'geo': None,\n",
       "  'coordinates': None,\n",
       "  'place': None,\n",
       "  'contributors': None,\n",
       "  'is_quote_status': False,\n",
       "  'retweet_count': 0,\n",
       "  'favorite_count': 0,\n",
       "  'favorited': False,\n",
       "  'retweeted': False,\n",
       "  'lang': 'en'},\n",
       " {'created_at': 'Wed Dec 01 14:45:11 +0000 2021',\n",
       "  'id': 1466055784643579907,\n",
       "  'id_str': '1466055784643579907',\n",
       "  'text': '@chibigyal Sorry about that! DM us with your GLO number and we can help\\xa0👍',\n",
       "  'truncated': False,\n",
       "  'entities': {'hashtags': [],\n",
       "   'symbols': [],\n",
       "   'user_mentions': [{'screen_name': 'chibigyal',\n",
       "     'name': 'D.O.B’s oscar campaigner',\n",
       "     'id': 3434932767,\n",
       "     'id_str': '3434932767',\n",
       "     'indices': [0, 10]}],\n",
       "   'urls': []},\n",
       "  'source': '<a href=\"http://www.falcon.io\" rel=\"nofollow\">Falcon Social Media Management </a>',\n",
       "  'in_reply_to_status_id': 1466023389911470087,\n",
       "  'in_reply_to_status_id_str': '1466023389911470087',\n",
       "  'in_reply_to_user_id': 3434932767,\n",
       "  'in_reply_to_user_id_str': '3434932767',\n",
       "  'in_reply_to_screen_name': 'chibigyal',\n",
       "  'user': {'id': 2610470250,\n",
       "   'id_str': '2610470250',\n",
       "   'name': 'Glossier',\n",
       "   'screen_name': 'glossier',\n",
       "   'location': 'New York, NY',\n",
       "   'description': 'Glossier Inc. is a people-powered beauty ecosystem ✨ Skin first, makeup second 😀👋',\n",
       "   'url': 'https://t.co/vBG3TkkpyS',\n",
       "   'entities': {'url': {'urls': [{'url': 'https://t.co/vBG3TkkpyS',\n",
       "       'expanded_url': 'http://glossier.com',\n",
       "       'display_url': 'glossier.com',\n",
       "       'indices': [0, 23]}]},\n",
       "    'description': {'urls': []}},\n",
       "   'protected': False,\n",
       "   'followers_count': 107170,\n",
       "   'friends_count': 1404,\n",
       "   'listed_count': 442,\n",
       "   'created_at': 'Mon Jul 07 21:24:44 +0000 2014',\n",
       "   'favourites_count': 31575,\n",
       "   'utc_offset': None,\n",
       "   'time_zone': None,\n",
       "   'geo_enabled': True,\n",
       "   'verified': True,\n",
       "   'statuses_count': 16870,\n",
       "   'lang': None,\n",
       "   'contributors_enabled': False,\n",
       "   'is_translator': False,\n",
       "   'is_translation_enabled': False,\n",
       "   'profile_background_color': 'C0DEED',\n",
       "   'profile_background_image_url': 'http://abs.twimg.com/images/themes/theme1/bg.png',\n",
       "   'profile_background_image_url_https': 'https://abs.twimg.com/images/themes/theme1/bg.png',\n",
       "   'profile_background_tile': False,\n",
       "   'profile_image_url': 'http://pbs.twimg.com/profile_images/1128355031508500483/LKhVroAj_normal.jpg',\n",
       "   'profile_image_url_https': 'https://pbs.twimg.com/profile_images/1128355031508500483/LKhVroAj_normal.jpg',\n",
       "   'profile_banner_url': 'https://pbs.twimg.com/profile_banners/2610470250/1469237546',\n",
       "   'profile_link_color': '1DA1F2',\n",
       "   'profile_sidebar_border_color': 'C0DEED',\n",
       "   'profile_sidebar_fill_color': 'DDEEF6',\n",
       "   'profile_text_color': '333333',\n",
       "   'profile_use_background_image': True,\n",
       "   'has_extended_profile': False,\n",
       "   'default_profile': True,\n",
       "   'default_profile_image': False,\n",
       "   'following': False,\n",
       "   'follow_request_sent': False,\n",
       "   'notifications': False,\n",
       "   'translator_type': 'none',\n",
       "   'withheld_in_countries': []},\n",
       "  'geo': None,\n",
       "  'coordinates': None,\n",
       "  'place': None,\n",
       "  'contributors': None,\n",
       "  'is_quote_status': False,\n",
       "  'retweet_count': 0,\n",
       "  'favorite_count': 1,\n",
       "  'favorited': False,\n",
       "  'retweeted': False,\n",
       "  'lang': 'en'},\n",
       " {'created_at': 'Tue Nov 30 18:25:27 +0000 2021',\n",
       "  'id': 1465748827479199755,\n",
       "  'id_str': '1465748827479199755',\n",
       "  'text': '@sophsdayoff DM us and we can help!',\n",
       "  'truncated': False,\n",
       "  'entities': {'hashtags': [],\n",
       "   'symbols': [],\n",
       "   'user_mentions': [{'screen_name': 'sophsdayoff',\n",
       "     'name': 'soph, msc🌱',\n",
       "     'id': 1352504180,\n",
       "     'id_str': '1352504180',\n",
       "     'indices': [0, 12]}],\n",
       "   'urls': []},\n",
       "  'source': '<a href=\"http://www.falcon.io\" rel=\"nofollow\">Falcon Social Media Management </a>',\n",
       "  'in_reply_to_status_id': 1465748332647698446,\n",
       "  'in_reply_to_status_id_str': '1465748332647698446',\n",
       "  'in_reply_to_user_id': 1352504180,\n",
       "  'in_reply_to_user_id_str': '1352504180',\n",
       "  'in_reply_to_screen_name': 'sophsdayoff',\n",
       "  'user': {'id': 2610470250,\n",
       "   'id_str': '2610470250',\n",
       "   'name': 'Glossier',\n",
       "   'screen_name': 'glossier',\n",
       "   'location': 'New York, NY',\n",
       "   'description': 'Glossier Inc. is a people-powered beauty ecosystem ✨ Skin first, makeup second 😀👋',\n",
       "   'url': 'https://t.co/vBG3TkkpyS',\n",
       "   'entities': {'url': {'urls': [{'url': 'https://t.co/vBG3TkkpyS',\n",
       "       'expanded_url': 'http://glossier.com',\n",
       "       'display_url': 'glossier.com',\n",
       "       'indices': [0, 23]}]},\n",
       "    'description': {'urls': []}},\n",
       "   'protected': False,\n",
       "   'followers_count': 107170,\n",
       "   'friends_count': 1404,\n",
       "   'listed_count': 442,\n",
       "   'created_at': 'Mon Jul 07 21:24:44 +0000 2014',\n",
       "   'favourites_count': 31575,\n",
       "   'utc_offset': None,\n",
       "   'time_zone': None,\n",
       "   'geo_enabled': True,\n",
       "   'verified': True,\n",
       "   'statuses_count': 16870,\n",
       "   'lang': None,\n",
       "   'contributors_enabled': False,\n",
       "   'is_translator': False,\n",
       "   'is_translation_enabled': False,\n",
       "   'profile_background_color': 'C0DEED',\n",
       "   'profile_background_image_url': 'http://abs.twimg.com/images/themes/theme1/bg.png',\n",
       "   'profile_background_image_url_https': 'https://abs.twimg.com/images/themes/theme1/bg.png',\n",
       "   'profile_background_tile': False,\n",
       "   'profile_image_url': 'http://pbs.twimg.com/profile_images/1128355031508500483/LKhVroAj_normal.jpg',\n",
       "   'profile_image_url_https': 'https://pbs.twimg.com/profile_images/1128355031508500483/LKhVroAj_normal.jpg',\n",
       "   'profile_banner_url': 'https://pbs.twimg.com/profile_banners/2610470250/1469237546',\n",
       "   'profile_link_color': '1DA1F2',\n",
       "   'profile_sidebar_border_color': 'C0DEED',\n",
       "   'profile_sidebar_fill_color': 'DDEEF6',\n",
       "   'profile_text_color': '333333',\n",
       "   'profile_use_background_image': True,\n",
       "   'has_extended_profile': False,\n",
       "   'default_profile': True,\n",
       "   'default_profile_image': False,\n",
       "   'following': False,\n",
       "   'follow_request_sent': False,\n",
       "   'notifications': False,\n",
       "   'translator_type': 'none',\n",
       "   'withheld_in_countries': []},\n",
       "  'geo': None,\n",
       "  'coordinates': None,\n",
       "  'place': None,\n",
       "  'contributors': None,\n",
       "  'is_quote_status': False,\n",
       "  'retweet_count': 0,\n",
       "  'favorite_count': 1,\n",
       "  'favorited': False,\n",
       "  'retweeted': False,\n",
       "  'lang': 'en'},\n",
       " {'created_at': 'Tue Nov 30 18:07:24 +0000 2021',\n",
       "  'id': 1465744285228220418,\n",
       "  'id_str': '1465744285228220418',\n",
       "  'text': '@angeli_mehta DM us and we can help!',\n",
       "  'truncated': False,\n",
       "  'entities': {'hashtags': [],\n",
       "   'symbols': [],\n",
       "   'user_mentions': [{'screen_name': 'angeli_mehta',\n",
       "     'name': 'Angeli Mehta',\n",
       "     'id': 177168071,\n",
       "     'id_str': '177168071',\n",
       "     'indices': [0, 13]}],\n",
       "   'urls': []},\n",
       "  'source': '<a href=\"http://www.falcon.io\" rel=\"nofollow\">Falcon Social Media Management </a>',\n",
       "  'in_reply_to_status_id': 1465743274937884680,\n",
       "  'in_reply_to_status_id_str': '1465743274937884680',\n",
       "  'in_reply_to_user_id': 177168071,\n",
       "  'in_reply_to_user_id_str': '177168071',\n",
       "  'in_reply_to_screen_name': 'angeli_mehta',\n",
       "  'user': {'id': 2610470250,\n",
       "   'id_str': '2610470250',\n",
       "   'name': 'Glossier',\n",
       "   'screen_name': 'glossier',\n",
       "   'location': 'New York, NY',\n",
       "   'description': 'Glossier Inc. is a people-powered beauty ecosystem ✨ Skin first, makeup second 😀👋',\n",
       "   'url': 'https://t.co/vBG3TkkpyS',\n",
       "   'entities': {'url': {'urls': [{'url': 'https://t.co/vBG3TkkpyS',\n",
       "       'expanded_url': 'http://glossier.com',\n",
       "       'display_url': 'glossier.com',\n",
       "       'indices': [0, 23]}]},\n",
       "    'description': {'urls': []}},\n",
       "   'protected': False,\n",
       "   'followers_count': 107170,\n",
       "   'friends_count': 1404,\n",
       "   'listed_count': 442,\n",
       "   'created_at': 'Mon Jul 07 21:24:44 +0000 2014',\n",
       "   'favourites_count': 31575,\n",
       "   'utc_offset': None,\n",
       "   'time_zone': None,\n",
       "   'geo_enabled': True,\n",
       "   'verified': True,\n",
       "   'statuses_count': 16870,\n",
       "   'lang': None,\n",
       "   'contributors_enabled': False,\n",
       "   'is_translator': False,\n",
       "   'is_translation_enabled': False,\n",
       "   'profile_background_color': 'C0DEED',\n",
       "   'profile_background_image_url': 'http://abs.twimg.com/images/themes/theme1/bg.png',\n",
       "   'profile_background_image_url_https': 'https://abs.twimg.com/images/themes/theme1/bg.png',\n",
       "   'profile_background_tile': False,\n",
       "   'profile_image_url': 'http://pbs.twimg.com/profile_images/1128355031508500483/LKhVroAj_normal.jpg',\n",
       "   'profile_image_url_https': 'https://pbs.twimg.com/profile_images/1128355031508500483/LKhVroAj_normal.jpg',\n",
       "   'profile_banner_url': 'https://pbs.twimg.com/profile_banners/2610470250/1469237546',\n",
       "   'profile_link_color': '1DA1F2',\n",
       "   'profile_sidebar_border_color': 'C0DEED',\n",
       "   'profile_sidebar_fill_color': 'DDEEF6',\n",
       "   'profile_text_color': '333333',\n",
       "   'profile_use_background_image': True,\n",
       "   'has_extended_profile': False,\n",
       "   'default_profile': True,\n",
       "   'default_profile_image': False,\n",
       "   'following': False,\n",
       "   'follow_request_sent': False,\n",
       "   'notifications': False,\n",
       "   'translator_type': 'none',\n",
       "   'withheld_in_countries': []},\n",
       "  'geo': None,\n",
       "  'coordinates': None,\n",
       "  'place': None,\n",
       "  'contributors': None,\n",
       "  'is_quote_status': False,\n",
       "  'retweet_count': 0,\n",
       "  'favorite_count': 0,\n",
       "  'favorited': False,\n",
       "  'retweeted': False,\n",
       "  'lang': 'en'},\n",
       " {'created_at': 'Tue Nov 30 18:00:51 +0000 2021',\n",
       "  'id': 1465742638364209152,\n",
       "  'id_str': '1465742638364209152',\n",
       "  'text': '@TriciaGordon DM us and we can help!',\n",
       "  'truncated': False,\n",
       "  'entities': {'hashtags': [],\n",
       "   'symbols': [],\n",
       "   'user_mentions': [{'screen_name': 'TriciaGordon',\n",
       "     'name': 'Trish Gordon',\n",
       "     'id': 223877645,\n",
       "     'id_str': '223877645',\n",
       "     'indices': [0, 13]}],\n",
       "   'urls': []},\n",
       "  'source': '<a href=\"http://www.falcon.io\" rel=\"nofollow\">Falcon Social Media Management </a>',\n",
       "  'in_reply_to_status_id': 1465736021400858626,\n",
       "  'in_reply_to_status_id_str': '1465736021400858626',\n",
       "  'in_reply_to_user_id': 223877645,\n",
       "  'in_reply_to_user_id_str': '223877645',\n",
       "  'in_reply_to_screen_name': 'TriciaGordon',\n",
       "  'user': {'id': 2610470250,\n",
       "   'id_str': '2610470250',\n",
       "   'name': 'Glossier',\n",
       "   'screen_name': 'glossier',\n",
       "   'location': 'New York, NY',\n",
       "   'description': 'Glossier Inc. is a people-powered beauty ecosystem ✨ Skin first, makeup second 😀👋',\n",
       "   'url': 'https://t.co/vBG3TkkpyS',\n",
       "   'entities': {'url': {'urls': [{'url': 'https://t.co/vBG3TkkpyS',\n",
       "       'expanded_url': 'http://glossier.com',\n",
       "       'display_url': 'glossier.com',\n",
       "       'indices': [0, 23]}]},\n",
       "    'description': {'urls': []}},\n",
       "   'protected': False,\n",
       "   'followers_count': 107170,\n",
       "   'friends_count': 1404,\n",
       "   'listed_count': 442,\n",
       "   'created_at': 'Mon Jul 07 21:24:44 +0000 2014',\n",
       "   'favourites_count': 31575,\n",
       "   'utc_offset': None,\n",
       "   'time_zone': None,\n",
       "   'geo_enabled': True,\n",
       "   'verified': True,\n",
       "   'statuses_count': 16870,\n",
       "   'lang': None,\n",
       "   'contributors_enabled': False,\n",
       "   'is_translator': False,\n",
       "   'is_translation_enabled': False,\n",
       "   'profile_background_color': 'C0DEED',\n",
       "   'profile_background_image_url': 'http://abs.twimg.com/images/themes/theme1/bg.png',\n",
       "   'profile_background_image_url_https': 'https://abs.twimg.com/images/themes/theme1/bg.png',\n",
       "   'profile_background_tile': False,\n",
       "   'profile_image_url': 'http://pbs.twimg.com/profile_images/1128355031508500483/LKhVroAj_normal.jpg',\n",
       "   'profile_image_url_https': 'https://pbs.twimg.com/profile_images/1128355031508500483/LKhVroAj_normal.jpg',\n",
       "   'profile_banner_url': 'https://pbs.twimg.com/profile_banners/2610470250/1469237546',\n",
       "   'profile_link_color': '1DA1F2',\n",
       "   'profile_sidebar_border_color': 'C0DEED',\n",
       "   'profile_sidebar_fill_color': 'DDEEF6',\n",
       "   'profile_text_color': '333333',\n",
       "   'profile_use_background_image': True,\n",
       "   'has_extended_profile': False,\n",
       "   'default_profile': True,\n",
       "   'default_profile_image': False,\n",
       "   'following': False,\n",
       "   'follow_request_sent': False,\n",
       "   'notifications': False,\n",
       "   'translator_type': 'none',\n",
       "   'withheld_in_countries': []},\n",
       "  'geo': None,\n",
       "  'coordinates': None,\n",
       "  'place': None,\n",
       "  'contributors': None,\n",
       "  'is_quote_status': False,\n",
       "  'retweet_count': 0,\n",
       "  'favorite_count': 0,\n",
       "  'favorited': False,\n",
       "  'retweeted': False,\n",
       "  'lang': 'en'},\n",
       " {'created_at': 'Tue Nov 30 09:59:33 +0000 2021',\n",
       "  'id': 1465621515878158340,\n",
       "  'id_str': '1465621515878158340',\n",
       "  'text': '@ForeverWithJoeJ DM us and we can help!',\n",
       "  'truncated': False,\n",
       "  'entities': {'hashtags': [],\n",
       "   'symbols': [],\n",
       "   'user_mentions': [{'screen_name': 'ForeverWithJoeJ',\n",
       "     'name': 'danielle.',\n",
       "     'id': 28184503,\n",
       "     'id_str': '28184503',\n",
       "     'indices': [0, 16]}],\n",
       "   'urls': []},\n",
       "  'source': '<a href=\"http://www.falcon.io\" rel=\"nofollow\">Falcon Social Media Management </a>',\n",
       "  'in_reply_to_status_id': 1465610045488611331,\n",
       "  'in_reply_to_status_id_str': '1465610045488611331',\n",
       "  'in_reply_to_user_id': 28184503,\n",
       "  'in_reply_to_user_id_str': '28184503',\n",
       "  'in_reply_to_screen_name': 'ForeverWithJoeJ',\n",
       "  'user': {'id': 2610470250,\n",
       "   'id_str': '2610470250',\n",
       "   'name': 'Glossier',\n",
       "   'screen_name': 'glossier',\n",
       "   'location': 'New York, NY',\n",
       "   'description': 'Glossier Inc. is a people-powered beauty ecosystem ✨ Skin first, makeup second 😀👋',\n",
       "   'url': 'https://t.co/vBG3TkkpyS',\n",
       "   'entities': {'url': {'urls': [{'url': 'https://t.co/vBG3TkkpyS',\n",
       "       'expanded_url': 'http://glossier.com',\n",
       "       'display_url': 'glossier.com',\n",
       "       'indices': [0, 23]}]},\n",
       "    'description': {'urls': []}},\n",
       "   'protected': False,\n",
       "   'followers_count': 107170,\n",
       "   'friends_count': 1404,\n",
       "   'listed_count': 442,\n",
       "   'created_at': 'Mon Jul 07 21:24:44 +0000 2014',\n",
       "   'favourites_count': 31575,\n",
       "   'utc_offset': None,\n",
       "   'time_zone': None,\n",
       "   'geo_enabled': True,\n",
       "   'verified': True,\n",
       "   'statuses_count': 16870,\n",
       "   'lang': None,\n",
       "   'contributors_enabled': False,\n",
       "   'is_translator': False,\n",
       "   'is_translation_enabled': False,\n",
       "   'profile_background_color': 'C0DEED',\n",
       "   'profile_background_image_url': 'http://abs.twimg.com/images/themes/theme1/bg.png',\n",
       "   'profile_background_image_url_https': 'https://abs.twimg.com/images/themes/theme1/bg.png',\n",
       "   'profile_background_tile': False,\n",
       "   'profile_image_url': 'http://pbs.twimg.com/profile_images/1128355031508500483/LKhVroAj_normal.jpg',\n",
       "   'profile_image_url_https': 'https://pbs.twimg.com/profile_images/1128355031508500483/LKhVroAj_normal.jpg',\n",
       "   'profile_banner_url': 'https://pbs.twimg.com/profile_banners/2610470250/1469237546',\n",
       "   'profile_link_color': '1DA1F2',\n",
       "   'profile_sidebar_border_color': 'C0DEED',\n",
       "   'profile_sidebar_fill_color': 'DDEEF6',\n",
       "   'profile_text_color': '333333',\n",
       "   'profile_use_background_image': True,\n",
       "   'has_extended_profile': False,\n",
       "   'default_profile': True,\n",
       "   'default_profile_image': False,\n",
       "   'following': False,\n",
       "   'follow_request_sent': False,\n",
       "   'notifications': False,\n",
       "   'translator_type': 'none',\n",
       "   'withheld_in_countries': []},\n",
       "  'geo': None,\n",
       "  'coordinates': None,\n",
       "  'place': None,\n",
       "  'contributors': None,\n",
       "  'is_quote_status': False,\n",
       "  'retweet_count': 0,\n",
       "  'favorite_count': 0,\n",
       "  'favorited': False,\n",
       "  'retweeted': False,\n",
       "  'lang': 'en'},\n",
       " {'created_at': 'Tue Nov 30 09:50:43 +0000 2021',\n",
       "  'id': 1465619289394794496,\n",
       "  'id_str': '1465619289394794496',\n",
       "  'text': \"@karlmarky42069 DM us and we'll be able to help!\",\n",
       "  'truncated': False,\n",
       "  'entities': {'hashtags': [],\n",
       "   'symbols': [],\n",
       "   'user_mentions': [{'screen_name': 'karlmarky42069',\n",
       "     'name': 'karlmarky42069, PhD',\n",
       "     'id': 4077923003,\n",
       "     'id_str': '4077923003',\n",
       "     'indices': [0, 15]}],\n",
       "   'urls': []},\n",
       "  'source': '<a href=\"http://www.falcon.io\" rel=\"nofollow\">Falcon Social Media Management </a>',\n",
       "  'in_reply_to_status_id': 1465525095913381888,\n",
       "  'in_reply_to_status_id_str': '1465525095913381888',\n",
       "  'in_reply_to_user_id': 4077923003,\n",
       "  'in_reply_to_user_id_str': '4077923003',\n",
       "  'in_reply_to_screen_name': 'karlmarky42069',\n",
       "  'user': {'id': 2610470250,\n",
       "   'id_str': '2610470250',\n",
       "   'name': 'Glossier',\n",
       "   'screen_name': 'glossier',\n",
       "   'location': 'New York, NY',\n",
       "   'description': 'Glossier Inc. is a people-powered beauty ecosystem ✨ Skin first, makeup second 😀👋',\n",
       "   'url': 'https://t.co/vBG3TkkpyS',\n",
       "   'entities': {'url': {'urls': [{'url': 'https://t.co/vBG3TkkpyS',\n",
       "       'expanded_url': 'http://glossier.com',\n",
       "       'display_url': 'glossier.com',\n",
       "       'indices': [0, 23]}]},\n",
       "    'description': {'urls': []}},\n",
       "   'protected': False,\n",
       "   'followers_count': 107170,\n",
       "   'friends_count': 1404,\n",
       "   'listed_count': 442,\n",
       "   'created_at': 'Mon Jul 07 21:24:44 +0000 2014',\n",
       "   'favourites_count': 31575,\n",
       "   'utc_offset': None,\n",
       "   'time_zone': None,\n",
       "   'geo_enabled': True,\n",
       "   'verified': True,\n",
       "   'statuses_count': 16870,\n",
       "   'lang': None,\n",
       "   'contributors_enabled': False,\n",
       "   'is_translator': False,\n",
       "   'is_translation_enabled': False,\n",
       "   'profile_background_color': 'C0DEED',\n",
       "   'profile_background_image_url': 'http://abs.twimg.com/images/themes/theme1/bg.png',\n",
       "   'profile_background_image_url_https': 'https://abs.twimg.com/images/themes/theme1/bg.png',\n",
       "   'profile_background_tile': False,\n",
       "   'profile_image_url': 'http://pbs.twimg.com/profile_images/1128355031508500483/LKhVroAj_normal.jpg',\n",
       "   'profile_image_url_https': 'https://pbs.twimg.com/profile_images/1128355031508500483/LKhVroAj_normal.jpg',\n",
       "   'profile_banner_url': 'https://pbs.twimg.com/profile_banners/2610470250/1469237546',\n",
       "   'profile_link_color': '1DA1F2',\n",
       "   'profile_sidebar_border_color': 'C0DEED',\n",
       "   'profile_sidebar_fill_color': 'DDEEF6',\n",
       "   'profile_text_color': '333333',\n",
       "   'profile_use_background_image': True,\n",
       "   'has_extended_profile': False,\n",
       "   'default_profile': True,\n",
       "   'default_profile_image': False,\n",
       "   'following': False,\n",
       "   'follow_request_sent': False,\n",
       "   'notifications': False,\n",
       "   'translator_type': 'none',\n",
       "   'withheld_in_countries': []},\n",
       "  'geo': None,\n",
       "  'coordinates': None,\n",
       "  'place': None,\n",
       "  'contributors': None,\n",
       "  'is_quote_status': False,\n",
       "  'retweet_count': 0,\n",
       "  'favorite_count': 0,\n",
       "  'favorited': False,\n",
       "  'retweeted': False,\n",
       "  'lang': 'en'},\n",
       " {'created_at': 'Tue Nov 30 09:41:37 +0000 2021',\n",
       "  'id': 1465616999300616195,\n",
       "  'id_str': '1465616999300616195',\n",
       "  'text': \"@isabellamh15 If you're in Los Angeles, you can purchase your items on https://t.co/lJPHYSrKkl and pick them up in-… https://t.co/1zP6eJIGzL\",\n",
       "  'truncated': True,\n",
       "  'entities': {'hashtags': [],\n",
       "   'symbols': [],\n",
       "   'user_mentions': [{'screen_name': 'isabellamh15',\n",
       "     'name': 'bella',\n",
       "     'id': 843846564397432833,\n",
       "     'id_str': '843846564397432833',\n",
       "     'indices': [0, 13]}],\n",
       "   'urls': [{'url': 'https://t.co/lJPHYSrKkl',\n",
       "     'expanded_url': 'http://Glossier.com',\n",
       "     'display_url': 'Glossier.com',\n",
       "     'indices': [71, 94]},\n",
       "    {'url': 'https://t.co/1zP6eJIGzL',\n",
       "     'expanded_url': 'https://twitter.com/i/web/status/1465616999300616195',\n",
       "     'display_url': 'twitter.com/i/web/status/1…',\n",
       "     'indices': [117, 140]}]},\n",
       "  'source': '<a href=\"http://www.falcon.io\" rel=\"nofollow\">Falcon Social Media Management </a>',\n",
       "  'in_reply_to_status_id': 1465519283547500549,\n",
       "  'in_reply_to_status_id_str': '1465519283547500549',\n",
       "  'in_reply_to_user_id': 843846564397432833,\n",
       "  'in_reply_to_user_id_str': '843846564397432833',\n",
       "  'in_reply_to_screen_name': 'isabellamh15',\n",
       "  'user': {'id': 2610470250,\n",
       "   'id_str': '2610470250',\n",
       "   'name': 'Glossier',\n",
       "   'screen_name': 'glossier',\n",
       "   'location': 'New York, NY',\n",
       "   'description': 'Glossier Inc. is a people-powered beauty ecosystem ✨ Skin first, makeup second 😀👋',\n",
       "   'url': 'https://t.co/vBG3TkkpyS',\n",
       "   'entities': {'url': {'urls': [{'url': 'https://t.co/vBG3TkkpyS',\n",
       "       'expanded_url': 'http://glossier.com',\n",
       "       'display_url': 'glossier.com',\n",
       "       'indices': [0, 23]}]},\n",
       "    'description': {'urls': []}},\n",
       "   'protected': False,\n",
       "   'followers_count': 107170,\n",
       "   'friends_count': 1404,\n",
       "   'listed_count': 442,\n",
       "   'created_at': 'Mon Jul 07 21:24:44 +0000 2014',\n",
       "   'favourites_count': 31575,\n",
       "   'utc_offset': None,\n",
       "   'time_zone': None,\n",
       "   'geo_enabled': True,\n",
       "   'verified': True,\n",
       "   'statuses_count': 16870,\n",
       "   'lang': None,\n",
       "   'contributors_enabled': False,\n",
       "   'is_translator': False,\n",
       "   'is_translation_enabled': False,\n",
       "   'profile_background_color': 'C0DEED',\n",
       "   'profile_background_image_url': 'http://abs.twimg.com/images/themes/theme1/bg.png',\n",
       "   'profile_background_image_url_https': 'https://abs.twimg.com/images/themes/theme1/bg.png',\n",
       "   'profile_background_tile': False,\n",
       "   'profile_image_url': 'http://pbs.twimg.com/profile_images/1128355031508500483/LKhVroAj_normal.jpg',\n",
       "   'profile_image_url_https': 'https://pbs.twimg.com/profile_images/1128355031508500483/LKhVroAj_normal.jpg',\n",
       "   'profile_banner_url': 'https://pbs.twimg.com/profile_banners/2610470250/1469237546',\n",
       "   'profile_link_color': '1DA1F2',\n",
       "   'profile_sidebar_border_color': 'C0DEED',\n",
       "   'profile_sidebar_fill_color': 'DDEEF6',\n",
       "   'profile_text_color': '333333',\n",
       "   'profile_use_background_image': True,\n",
       "   'has_extended_profile': False,\n",
       "   'default_profile': True,\n",
       "   'default_profile_image': False,\n",
       "   'following': False,\n",
       "   'follow_request_sent': False,\n",
       "   'notifications': False,\n",
       "   'translator_type': 'none',\n",
       "   'withheld_in_countries': []},\n",
       "  'geo': None,\n",
       "  'coordinates': None,\n",
       "  'place': None,\n",
       "  'contributors': None,\n",
       "  'is_quote_status': False,\n",
       "  'retweet_count': 0,\n",
       "  'favorite_count': 0,\n",
       "  'favorited': False,\n",
       "  'retweeted': False,\n",
       "  'possibly_sensitive': False,\n",
       "  'lang': 'en'},\n",
       " {'created_at': 'Tue Nov 30 09:32:22 +0000 2021',\n",
       "  'id': 1465614673567432704,\n",
       "  'id_str': '1465614673567432704',\n",
       "  'text': '@FeistyHammer DM us and we can help 👍',\n",
       "  'truncated': False,\n",
       "  'entities': {'hashtags': [],\n",
       "   'symbols': [],\n",
       "   'user_mentions': [{'screen_name': 'FeistyHammer',\n",
       "     'name': 'Feisty⚒Hammer',\n",
       "     'id': 4329592907,\n",
       "     'id_str': '4329592907',\n",
       "     'indices': [0, 13]}],\n",
       "   'urls': []},\n",
       "  'source': '<a href=\"http://www.falcon.io\" rel=\"nofollow\">Falcon Social Media Management </a>',\n",
       "  'in_reply_to_status_id': 1465507090240139266,\n",
       "  'in_reply_to_status_id_str': '1465507090240139266',\n",
       "  'in_reply_to_user_id': 4329592907,\n",
       "  'in_reply_to_user_id_str': '4329592907',\n",
       "  'in_reply_to_screen_name': 'FeistyHammer',\n",
       "  'user': {'id': 2610470250,\n",
       "   'id_str': '2610470250',\n",
       "   'name': 'Glossier',\n",
       "   'screen_name': 'glossier',\n",
       "   'location': 'New York, NY',\n",
       "   'description': 'Glossier Inc. is a people-powered beauty ecosystem ✨ Skin first, makeup second 😀👋',\n",
       "   'url': 'https://t.co/vBG3TkkpyS',\n",
       "   'entities': {'url': {'urls': [{'url': 'https://t.co/vBG3TkkpyS',\n",
       "       'expanded_url': 'http://glossier.com',\n",
       "       'display_url': 'glossier.com',\n",
       "       'indices': [0, 23]}]},\n",
       "    'description': {'urls': []}},\n",
       "   'protected': False,\n",
       "   'followers_count': 107170,\n",
       "   'friends_count': 1404,\n",
       "   'listed_count': 442,\n",
       "   'created_at': 'Mon Jul 07 21:24:44 +0000 2014',\n",
       "   'favourites_count': 31575,\n",
       "   'utc_offset': None,\n",
       "   'time_zone': None,\n",
       "   'geo_enabled': True,\n",
       "   'verified': True,\n",
       "   'statuses_count': 16870,\n",
       "   'lang': None,\n",
       "   'contributors_enabled': False,\n",
       "   'is_translator': False,\n",
       "   'is_translation_enabled': False,\n",
       "   'profile_background_color': 'C0DEED',\n",
       "   'profile_background_image_url': 'http://abs.twimg.com/images/themes/theme1/bg.png',\n",
       "   'profile_background_image_url_https': 'https://abs.twimg.com/images/themes/theme1/bg.png',\n",
       "   'profile_background_tile': False,\n",
       "   'profile_image_url': 'http://pbs.twimg.com/profile_images/1128355031508500483/LKhVroAj_normal.jpg',\n",
       "   'profile_image_url_https': 'https://pbs.twimg.com/profile_images/1128355031508500483/LKhVroAj_normal.jpg',\n",
       "   'profile_banner_url': 'https://pbs.twimg.com/profile_banners/2610470250/1469237546',\n",
       "   'profile_link_color': '1DA1F2',\n",
       "   'profile_sidebar_border_color': 'C0DEED',\n",
       "   'profile_sidebar_fill_color': 'DDEEF6',\n",
       "   'profile_text_color': '333333',\n",
       "   'profile_use_background_image': True,\n",
       "   'has_extended_profile': False,\n",
       "   'default_profile': True,\n",
       "   'default_profile_image': False,\n",
       "   'following': False,\n",
       "   'follow_request_sent': False,\n",
       "   'notifications': False,\n",
       "   'translator_type': 'none',\n",
       "   'withheld_in_countries': []},\n",
       "  'geo': None,\n",
       "  'coordinates': None,\n",
       "  'place': None,\n",
       "  'contributors': None,\n",
       "  'is_quote_status': False,\n",
       "  'retweet_count': 0,\n",
       "  'favorite_count': 0,\n",
       "  'favorited': False,\n",
       "  'retweeted': False,\n",
       "  'lang': 'en'},\n",
       " {'created_at': 'Tue Nov 30 01:02:48 +0000 2021',\n",
       "  'id': 1465486437709668354,\n",
       "  'id_str': '1465486437709668354',\n",
       "  'text': '@hedgehogvampir1 DM us and we can help\\xa0👍',\n",
       "  'truncated': False,\n",
       "  'entities': {'hashtags': [],\n",
       "   'symbols': [],\n",
       "   'user_mentions': [{'screen_name': 'hedgehogvampir1',\n",
       "     'name': 'jessica malanowski',\n",
       "     'id': 3274968134,\n",
       "     'id_str': '3274968134',\n",
       "     'indices': [0, 16]}],\n",
       "   'urls': []},\n",
       "  'source': '<a href=\"http://www.falcon.io\" rel=\"nofollow\">Falcon Social Media Management </a>',\n",
       "  'in_reply_to_status_id': 1465485759247495175,\n",
       "  'in_reply_to_status_id_str': '1465485759247495175',\n",
       "  'in_reply_to_user_id': 3274968134,\n",
       "  'in_reply_to_user_id_str': '3274968134',\n",
       "  'in_reply_to_screen_name': 'hedgehogvampir1',\n",
       "  'user': {'id': 2610470250,\n",
       "   'id_str': '2610470250',\n",
       "   'name': 'Glossier',\n",
       "   'screen_name': 'glossier',\n",
       "   'location': 'New York, NY',\n",
       "   'description': 'Glossier Inc. is a people-powered beauty ecosystem ✨ Skin first, makeup second 😀👋',\n",
       "   'url': 'https://t.co/vBG3TkkpyS',\n",
       "   'entities': {'url': {'urls': [{'url': 'https://t.co/vBG3TkkpyS',\n",
       "       'expanded_url': 'http://glossier.com',\n",
       "       'display_url': 'glossier.com',\n",
       "       'indices': [0, 23]}]},\n",
       "    'description': {'urls': []}},\n",
       "   'protected': False,\n",
       "   'followers_count': 107170,\n",
       "   'friends_count': 1404,\n",
       "   'listed_count': 442,\n",
       "   'created_at': 'Mon Jul 07 21:24:44 +0000 2014',\n",
       "   'favourites_count': 31575,\n",
       "   'utc_offset': None,\n",
       "   'time_zone': None,\n",
       "   'geo_enabled': True,\n",
       "   'verified': True,\n",
       "   'statuses_count': 16870,\n",
       "   'lang': None,\n",
       "   'contributors_enabled': False,\n",
       "   'is_translator': False,\n",
       "   'is_translation_enabled': False,\n",
       "   'profile_background_color': 'C0DEED',\n",
       "   'profile_background_image_url': 'http://abs.twimg.com/images/themes/theme1/bg.png',\n",
       "   'profile_background_image_url_https': 'https://abs.twimg.com/images/themes/theme1/bg.png',\n",
       "   'profile_background_tile': False,\n",
       "   'profile_image_url': 'http://pbs.twimg.com/profile_images/1128355031508500483/LKhVroAj_normal.jpg',\n",
       "   'profile_image_url_https': 'https://pbs.twimg.com/profile_images/1128355031508500483/LKhVroAj_normal.jpg',\n",
       "   'profile_banner_url': 'https://pbs.twimg.com/profile_banners/2610470250/1469237546',\n",
       "   'profile_link_color': '1DA1F2',\n",
       "   'profile_sidebar_border_color': 'C0DEED',\n",
       "   'profile_sidebar_fill_color': 'DDEEF6',\n",
       "   'profile_text_color': '333333',\n",
       "   'profile_use_background_image': True,\n",
       "   'has_extended_profile': False,\n",
       "   'default_profile': True,\n",
       "   'default_profile_image': False,\n",
       "   'following': False,\n",
       "   'follow_request_sent': False,\n",
       "   'notifications': False,\n",
       "   'translator_type': 'none',\n",
       "   'withheld_in_countries': []},\n",
       "  'geo': None,\n",
       "  'coordinates': None,\n",
       "  'place': None,\n",
       "  'contributors': None,\n",
       "  'is_quote_status': False,\n",
       "  'retweet_count': 0,\n",
       "  'favorite_count': 0,\n",
       "  'favorited': False,\n",
       "  'retweeted': False,\n",
       "  'lang': 'en'},\n",
       " {'created_at': 'Mon Nov 29 23:50:07 +0000 2021',\n",
       "  'id': 1465468144546426886,\n",
       "  'id_str': '1465468144546426886',\n",
       "  'text': '@eloise290570421 DM us and we can help\\xa0✨',\n",
       "  'truncated': False,\n",
       "  'entities': {'hashtags': [],\n",
       "   'symbols': [],\n",
       "   'user_mentions': [{'screen_name': 'eloise290570421',\n",
       "     'name': 'eloise',\n",
       "     'id': 1425084800864555014,\n",
       "     'id_str': '1425084800864555014',\n",
       "     'indices': [0, 16]}],\n",
       "   'urls': []},\n",
       "  'source': '<a href=\"http://www.falcon.io\" rel=\"nofollow\">Falcon Social Media Management </a>',\n",
       "  'in_reply_to_status_id': 1465462452934660098,\n",
       "  'in_reply_to_status_id_str': '1465462452934660098',\n",
       "  'in_reply_to_user_id': 1425084800864555014,\n",
       "  'in_reply_to_user_id_str': '1425084800864555014',\n",
       "  'in_reply_to_screen_name': 'eloise290570421',\n",
       "  'user': {'id': 2610470250,\n",
       "   'id_str': '2610470250',\n",
       "   'name': 'Glossier',\n",
       "   'screen_name': 'glossier',\n",
       "   'location': 'New York, NY',\n",
       "   'description': 'Glossier Inc. is a people-powered beauty ecosystem ✨ Skin first, makeup second 😀👋',\n",
       "   'url': 'https://t.co/vBG3TkkpyS',\n",
       "   'entities': {'url': {'urls': [{'url': 'https://t.co/vBG3TkkpyS',\n",
       "       'expanded_url': 'http://glossier.com',\n",
       "       'display_url': 'glossier.com',\n",
       "       'indices': [0, 23]}]},\n",
       "    'description': {'urls': []}},\n",
       "   'protected': False,\n",
       "   'followers_count': 107170,\n",
       "   'friends_count': 1404,\n",
       "   'listed_count': 442,\n",
       "   'created_at': 'Mon Jul 07 21:24:44 +0000 2014',\n",
       "   'favourites_count': 31575,\n",
       "   'utc_offset': None,\n",
       "   'time_zone': None,\n",
       "   'geo_enabled': True,\n",
       "   'verified': True,\n",
       "   'statuses_count': 16870,\n",
       "   'lang': None,\n",
       "   'contributors_enabled': False,\n",
       "   'is_translator': False,\n",
       "   'is_translation_enabled': False,\n",
       "   'profile_background_color': 'C0DEED',\n",
       "   'profile_background_image_url': 'http://abs.twimg.com/images/themes/theme1/bg.png',\n",
       "   'profile_background_image_url_https': 'https://abs.twimg.com/images/themes/theme1/bg.png',\n",
       "   'profile_background_tile': False,\n",
       "   'profile_image_url': 'http://pbs.twimg.com/profile_images/1128355031508500483/LKhVroAj_normal.jpg',\n",
       "   'profile_image_url_https': 'https://pbs.twimg.com/profile_images/1128355031508500483/LKhVroAj_normal.jpg',\n",
       "   'profile_banner_url': 'https://pbs.twimg.com/profile_banners/2610470250/1469237546',\n",
       "   'profile_link_color': '1DA1F2',\n",
       "   'profile_sidebar_border_color': 'C0DEED',\n",
       "   'profile_sidebar_fill_color': 'DDEEF6',\n",
       "   'profile_text_color': '333333',\n",
       "   'profile_use_background_image': True,\n",
       "   'has_extended_profile': False,\n",
       "   'default_profile': True,\n",
       "   'default_profile_image': False,\n",
       "   'following': False,\n",
       "   'follow_request_sent': False,\n",
       "   'notifications': False,\n",
       "   'translator_type': 'none',\n",
       "   'withheld_in_countries': []},\n",
       "  'geo': None,\n",
       "  'coordinates': None,\n",
       "  'place': None,\n",
       "  'contributors': None,\n",
       "  'is_quote_status': False,\n",
       "  'retweet_count': 0,\n",
       "  'favorite_count': 1,\n",
       "  'favorited': False,\n",
       "  'retweeted': False,\n",
       "  'lang': 'en'},\n",
       " {'created_at': 'Mon Nov 29 23:12:47 +0000 2021',\n",
       "  'id': 1465458747854270466,\n",
       "  'id_str': '1465458747854270466',\n",
       "  'text': \"@zongehhh DM us with the email address you're using at checkout and we can help\\xa0👍\",\n",
       "  'truncated': False,\n",
       "  'entities': {'hashtags': [],\n",
       "   'symbols': [],\n",
       "   'user_mentions': [{'screen_name': 'zongehhh',\n",
       "     'name': 'Zwongeh',\n",
       "     'id': 2896930697,\n",
       "     'id_str': '2896930697',\n",
       "     'indices': [0, 9]}],\n",
       "   'urls': []},\n",
       "  'source': '<a href=\"http://www.falcon.io\" rel=\"nofollow\">Falcon Social Media Management </a>',\n",
       "  'in_reply_to_status_id': 1465458424855027717,\n",
       "  'in_reply_to_status_id_str': '1465458424855027717',\n",
       "  'in_reply_to_user_id': 2896930697,\n",
       "  'in_reply_to_user_id_str': '2896930697',\n",
       "  'in_reply_to_screen_name': 'zongehhh',\n",
       "  'user': {'id': 2610470250,\n",
       "   'id_str': '2610470250',\n",
       "   'name': 'Glossier',\n",
       "   'screen_name': 'glossier',\n",
       "   'location': 'New York, NY',\n",
       "   'description': 'Glossier Inc. is a people-powered beauty ecosystem ✨ Skin first, makeup second 😀👋',\n",
       "   'url': 'https://t.co/vBG3TkkpyS',\n",
       "   'entities': {'url': {'urls': [{'url': 'https://t.co/vBG3TkkpyS',\n",
       "       'expanded_url': 'http://glossier.com',\n",
       "       'display_url': 'glossier.com',\n",
       "       'indices': [0, 23]}]},\n",
       "    'description': {'urls': []}},\n",
       "   'protected': False,\n",
       "   'followers_count': 107170,\n",
       "   'friends_count': 1404,\n",
       "   'listed_count': 442,\n",
       "   'created_at': 'Mon Jul 07 21:24:44 +0000 2014',\n",
       "   'favourites_count': 31575,\n",
       "   'utc_offset': None,\n",
       "   'time_zone': None,\n",
       "   'geo_enabled': True,\n",
       "   'verified': True,\n",
       "   'statuses_count': 16870,\n",
       "   'lang': None,\n",
       "   'contributors_enabled': False,\n",
       "   'is_translator': False,\n",
       "   'is_translation_enabled': False,\n",
       "   'profile_background_color': 'C0DEED',\n",
       "   'profile_background_image_url': 'http://abs.twimg.com/images/themes/theme1/bg.png',\n",
       "   'profile_background_image_url_https': 'https://abs.twimg.com/images/themes/theme1/bg.png',\n",
       "   'profile_background_tile': False,\n",
       "   'profile_image_url': 'http://pbs.twimg.com/profile_images/1128355031508500483/LKhVroAj_normal.jpg',\n",
       "   'profile_image_url_https': 'https://pbs.twimg.com/profile_images/1128355031508500483/LKhVroAj_normal.jpg',\n",
       "   'profile_banner_url': 'https://pbs.twimg.com/profile_banners/2610470250/1469237546',\n",
       "   'profile_link_color': '1DA1F2',\n",
       "   'profile_sidebar_border_color': 'C0DEED',\n",
       "   'profile_sidebar_fill_color': 'DDEEF6',\n",
       "   'profile_text_color': '333333',\n",
       "   'profile_use_background_image': True,\n",
       "   'has_extended_profile': False,\n",
       "   'default_profile': True,\n",
       "   'default_profile_image': False,\n",
       "   'following': False,\n",
       "   'follow_request_sent': False,\n",
       "   'notifications': False,\n",
       "   'translator_type': 'none',\n",
       "   'withheld_in_countries': []},\n",
       "  'geo': None,\n",
       "  'coordinates': None,\n",
       "  'place': None,\n",
       "  'contributors': None,\n",
       "  'is_quote_status': False,\n",
       "  'retweet_count': 0,\n",
       "  'favorite_count': 0,\n",
       "  'favorited': False,\n",
       "  'retweeted': False,\n",
       "  'lang': 'en'},\n",
       " {'created_at': 'Mon Nov 29 23:03:45 +0000 2021',\n",
       "  'id': 1465456476705730577,\n",
       "  'id_str': '1465456476705730577',\n",
       "  'text': \"@mid90sfilm DM us and we'll be happy to make a personalized recommendation\\xa0💞\",\n",
       "  'truncated': False,\n",
       "  'entities': {'hashtags': [],\n",
       "   'symbols': [],\n",
       "   'user_mentions': [{'screen_name': 'mid90sfilm',\n",
       "     'name': 'lauren',\n",
       "     'id': 1252992496067633152,\n",
       "     'id_str': '1252992496067633152',\n",
       "     'indices': [0, 11]}],\n",
       "   'urls': []},\n",
       "  'source': '<a href=\"http://www.falcon.io\" rel=\"nofollow\">Falcon Social Media Management </a>',\n",
       "  'in_reply_to_status_id': 1465448906016362500,\n",
       "  'in_reply_to_status_id_str': '1465448906016362500',\n",
       "  'in_reply_to_user_id': 1252992496067633152,\n",
       "  'in_reply_to_user_id_str': '1252992496067633152',\n",
       "  'in_reply_to_screen_name': 'mid90sfilm',\n",
       "  'user': {'id': 2610470250,\n",
       "   'id_str': '2610470250',\n",
       "   'name': 'Glossier',\n",
       "   'screen_name': 'glossier',\n",
       "   'location': 'New York, NY',\n",
       "   'description': 'Glossier Inc. is a people-powered beauty ecosystem ✨ Skin first, makeup second 😀👋',\n",
       "   'url': 'https://t.co/vBG3TkkpyS',\n",
       "   'entities': {'url': {'urls': [{'url': 'https://t.co/vBG3TkkpyS',\n",
       "       'expanded_url': 'http://glossier.com',\n",
       "       'display_url': 'glossier.com',\n",
       "       'indices': [0, 23]}]},\n",
       "    'description': {'urls': []}},\n",
       "   'protected': False,\n",
       "   'followers_count': 107170,\n",
       "   'friends_count': 1404,\n",
       "   'listed_count': 442,\n",
       "   'created_at': 'Mon Jul 07 21:24:44 +0000 2014',\n",
       "   'favourites_count': 31575,\n",
       "   'utc_offset': None,\n",
       "   'time_zone': None,\n",
       "   'geo_enabled': True,\n",
       "   'verified': True,\n",
       "   'statuses_count': 16870,\n",
       "   'lang': None,\n",
       "   'contributors_enabled': False,\n",
       "   'is_translator': False,\n",
       "   'is_translation_enabled': False,\n",
       "   'profile_background_color': 'C0DEED',\n",
       "   'profile_background_image_url': 'http://abs.twimg.com/images/themes/theme1/bg.png',\n",
       "   'profile_background_image_url_https': 'https://abs.twimg.com/images/themes/theme1/bg.png',\n",
       "   'profile_background_tile': False,\n",
       "   'profile_image_url': 'http://pbs.twimg.com/profile_images/1128355031508500483/LKhVroAj_normal.jpg',\n",
       "   'profile_image_url_https': 'https://pbs.twimg.com/profile_images/1128355031508500483/LKhVroAj_normal.jpg',\n",
       "   'profile_banner_url': 'https://pbs.twimg.com/profile_banners/2610470250/1469237546',\n",
       "   'profile_link_color': '1DA1F2',\n",
       "   'profile_sidebar_border_color': 'C0DEED',\n",
       "   'profile_sidebar_fill_color': 'DDEEF6',\n",
       "   'profile_text_color': '333333',\n",
       "   'profile_use_background_image': True,\n",
       "   'has_extended_profile': False,\n",
       "   'default_profile': True,\n",
       "   'default_profile_image': False,\n",
       "   'following': False,\n",
       "   'follow_request_sent': False,\n",
       "   'notifications': False,\n",
       "   'translator_type': 'none',\n",
       "   'withheld_in_countries': []},\n",
       "  'geo': None,\n",
       "  'coordinates': None,\n",
       "  'place': None,\n",
       "  'contributors': None,\n",
       "  'is_quote_status': False,\n",
       "  'retweet_count': 0,\n",
       "  'favorite_count': 1,\n",
       "  'favorited': False,\n",
       "  'retweeted': False,\n",
       "  'lang': 'en'},\n",
       " {'created_at': 'Mon Nov 29 23:03:29 +0000 2021',\n",
       "  'id': 1465456408829251586,\n",
       "  'id_str': '1465456408829251586',\n",
       "  'text': \"@shlvxo DM us with the email address you're using at checkout and we can help\\xa0👍\",\n",
       "  'truncated': False,\n",
       "  'entities': {'hashtags': [],\n",
       "   'symbols': [],\n",
       "   'user_mentions': [{'screen_name': 'shlvxo',\n",
       "     'name': 'ً',\n",
       "     'id': 1077658405811179523,\n",
       "     'id_str': '1077658405811179523',\n",
       "     'indices': [0, 7]}],\n",
       "   'urls': []},\n",
       "  'source': '<a href=\"http://www.falcon.io\" rel=\"nofollow\">Falcon Social Media Management </a>',\n",
       "  'in_reply_to_status_id': 1465450497066868737,\n",
       "  'in_reply_to_status_id_str': '1465450497066868737',\n",
       "  'in_reply_to_user_id': 1077658405811179523,\n",
       "  'in_reply_to_user_id_str': '1077658405811179523',\n",
       "  'in_reply_to_screen_name': 'shlvxo',\n",
       "  'user': {'id': 2610470250,\n",
       "   'id_str': '2610470250',\n",
       "   'name': 'Glossier',\n",
       "   'screen_name': 'glossier',\n",
       "   'location': 'New York, NY',\n",
       "   'description': 'Glossier Inc. is a people-powered beauty ecosystem ✨ Skin first, makeup second 😀👋',\n",
       "   'url': 'https://t.co/vBG3TkkpyS',\n",
       "   'entities': {'url': {'urls': [{'url': 'https://t.co/vBG3TkkpyS',\n",
       "       'expanded_url': 'http://glossier.com',\n",
       "       'display_url': 'glossier.com',\n",
       "       'indices': [0, 23]}]},\n",
       "    'description': {'urls': []}},\n",
       "   'protected': False,\n",
       "   'followers_count': 107170,\n",
       "   'friends_count': 1404,\n",
       "   'listed_count': 442,\n",
       "   'created_at': 'Mon Jul 07 21:24:44 +0000 2014',\n",
       "   'favourites_count': 31575,\n",
       "   'utc_offset': None,\n",
       "   'time_zone': None,\n",
       "   'geo_enabled': True,\n",
       "   'verified': True,\n",
       "   'statuses_count': 16870,\n",
       "   'lang': None,\n",
       "   'contributors_enabled': False,\n",
       "   'is_translator': False,\n",
       "   'is_translation_enabled': False,\n",
       "   'profile_background_color': 'C0DEED',\n",
       "   'profile_background_image_url': 'http://abs.twimg.com/images/themes/theme1/bg.png',\n",
       "   'profile_background_image_url_https': 'https://abs.twimg.com/images/themes/theme1/bg.png',\n",
       "   'profile_background_tile': False,\n",
       "   'profile_image_url': 'http://pbs.twimg.com/profile_images/1128355031508500483/LKhVroAj_normal.jpg',\n",
       "   'profile_image_url_https': 'https://pbs.twimg.com/profile_images/1128355031508500483/LKhVroAj_normal.jpg',\n",
       "   'profile_banner_url': 'https://pbs.twimg.com/profile_banners/2610470250/1469237546',\n",
       "   'profile_link_color': '1DA1F2',\n",
       "   'profile_sidebar_border_color': 'C0DEED',\n",
       "   'profile_sidebar_fill_color': 'DDEEF6',\n",
       "   'profile_text_color': '333333',\n",
       "   'profile_use_background_image': True,\n",
       "   'has_extended_profile': False,\n",
       "   'default_profile': True,\n",
       "   'default_profile_image': False,\n",
       "   'following': False,\n",
       "   'follow_request_sent': False,\n",
       "   'notifications': False,\n",
       "   'translator_type': 'none',\n",
       "   'withheld_in_countries': []},\n",
       "  'geo': None,\n",
       "  'coordinates': None,\n",
       "  'place': None,\n",
       "  'contributors': None,\n",
       "  'is_quote_status': False,\n",
       "  'retweet_count': 0,\n",
       "  'favorite_count': 0,\n",
       "  'favorited': False,\n",
       "  'retweeted': False,\n",
       "  'lang': 'en'},\n",
       " {'created_at': 'Mon Nov 29 22:06:39 +0000 2021',\n",
       "  'id': 1465442108781875207,\n",
       "  'id_str': '1465442108781875207',\n",
       "  'text': '@CHALAMETFlLM Only qualifying orders placed on 11/29 after 7am EST will receive a You Look Good Mirror. However you… https://t.co/5lhWChrqGu',\n",
       "  'truncated': True,\n",
       "  'entities': {'hashtags': [],\n",
       "   'symbols': [],\n",
       "   'user_mentions': [{'screen_name': 'CHALAMETFlLM',\n",
       "     'name': 'chlo',\n",
       "     'id': 2731743455,\n",
       "     'id_str': '2731743455',\n",
       "     'indices': [0, 13]}],\n",
       "   'urls': [{'url': 'https://t.co/5lhWChrqGu',\n",
       "     'expanded_url': 'https://twitter.com/i/web/status/1465442108781875207',\n",
       "     'display_url': 'twitter.com/i/web/status/1…',\n",
       "     'indices': [117, 140]}]},\n",
       "  'source': '<a href=\"http://www.falcon.io\" rel=\"nofollow\">Falcon Social Media Management </a>',\n",
       "  'in_reply_to_status_id': 1465440869385920527,\n",
       "  'in_reply_to_status_id_str': '1465440869385920527',\n",
       "  'in_reply_to_user_id': 2731743455,\n",
       "  'in_reply_to_user_id_str': '2731743455',\n",
       "  'in_reply_to_screen_name': 'CHALAMETFlLM',\n",
       "  'user': {'id': 2610470250,\n",
       "   'id_str': '2610470250',\n",
       "   'name': 'Glossier',\n",
       "   'screen_name': 'glossier',\n",
       "   'location': 'New York, NY',\n",
       "   'description': 'Glossier Inc. is a people-powered beauty ecosystem ✨ Skin first, makeup second 😀👋',\n",
       "   'url': 'https://t.co/vBG3TkkpyS',\n",
       "   'entities': {'url': {'urls': [{'url': 'https://t.co/vBG3TkkpyS',\n",
       "       'expanded_url': 'http://glossier.com',\n",
       "       'display_url': 'glossier.com',\n",
       "       'indices': [0, 23]}]},\n",
       "    'description': {'urls': []}},\n",
       "   'protected': False,\n",
       "   'followers_count': 107170,\n",
       "   'friends_count': 1404,\n",
       "   'listed_count': 442,\n",
       "   'created_at': 'Mon Jul 07 21:24:44 +0000 2014',\n",
       "   'favourites_count': 31575,\n",
       "   'utc_offset': None,\n",
       "   'time_zone': None,\n",
       "   'geo_enabled': True,\n",
       "   'verified': True,\n",
       "   'statuses_count': 16870,\n",
       "   'lang': None,\n",
       "   'contributors_enabled': False,\n",
       "   'is_translator': False,\n",
       "   'is_translation_enabled': False,\n",
       "   'profile_background_color': 'C0DEED',\n",
       "   'profile_background_image_url': 'http://abs.twimg.com/images/themes/theme1/bg.png',\n",
       "   'profile_background_image_url_https': 'https://abs.twimg.com/images/themes/theme1/bg.png',\n",
       "   'profile_background_tile': False,\n",
       "   'profile_image_url': 'http://pbs.twimg.com/profile_images/1128355031508500483/LKhVroAj_normal.jpg',\n",
       "   'profile_image_url_https': 'https://pbs.twimg.com/profile_images/1128355031508500483/LKhVroAj_normal.jpg',\n",
       "   'profile_banner_url': 'https://pbs.twimg.com/profile_banners/2610470250/1469237546',\n",
       "   'profile_link_color': '1DA1F2',\n",
       "   'profile_sidebar_border_color': 'C0DEED',\n",
       "   'profile_sidebar_fill_color': 'DDEEF6',\n",
       "   'profile_text_color': '333333',\n",
       "   'profile_use_background_image': True,\n",
       "   'has_extended_profile': False,\n",
       "   'default_profile': True,\n",
       "   'default_profile_image': False,\n",
       "   'following': False,\n",
       "   'follow_request_sent': False,\n",
       "   'notifications': False,\n",
       "   'translator_type': 'none',\n",
       "   'withheld_in_countries': []},\n",
       "  'geo': None,\n",
       "  'coordinates': None,\n",
       "  'place': None,\n",
       "  'contributors': None,\n",
       "  'is_quote_status': False,\n",
       "  'retweet_count': 0,\n",
       "  'favorite_count': 0,\n",
       "  'favorited': False,\n",
       "  'retweeted': False,\n",
       "  'possibly_sensitive': False,\n",
       "  'lang': 'en'},\n",
       " {'created_at': 'Mon Nov 29 21:44:08 +0000 2021',\n",
       "  'id': 1465436440540725253,\n",
       "  'id_str': '1465436440540725253',\n",
       "  'text': '@licepractice DM us with your GLO number and we can help\\xa0👍',\n",
       "  'truncated': False,\n",
       "  'entities': {'hashtags': [],\n",
       "   'symbols': [],\n",
       "   'user_mentions': [{'screen_name': 'licepractice',\n",
       "     'name': 'Rejit lets chat',\n",
       "     'id': 750973853057347588,\n",
       "     'id_str': '750973853057347588',\n",
       "     'indices': [0, 13]}],\n",
       "   'urls': []},\n",
       "  'source': '<a href=\"http://www.falcon.io\" rel=\"nofollow\">Falcon Social Media Management </a>',\n",
       "  'in_reply_to_status_id': 1465435036929384462,\n",
       "  'in_reply_to_status_id_str': '1465435036929384462',\n",
       "  'in_reply_to_user_id': 750973853057347588,\n",
       "  'in_reply_to_user_id_str': '750973853057347588',\n",
       "  'in_reply_to_screen_name': 'licepractice',\n",
       "  'user': {'id': 2610470250,\n",
       "   'id_str': '2610470250',\n",
       "   'name': 'Glossier',\n",
       "   'screen_name': 'glossier',\n",
       "   'location': 'New York, NY',\n",
       "   'description': 'Glossier Inc. is a people-powered beauty ecosystem ✨ Skin first, makeup second 😀👋',\n",
       "   'url': 'https://t.co/vBG3TkkpyS',\n",
       "   'entities': {'url': {'urls': [{'url': 'https://t.co/vBG3TkkpyS',\n",
       "       'expanded_url': 'http://glossier.com',\n",
       "       'display_url': 'glossier.com',\n",
       "       'indices': [0, 23]}]},\n",
       "    'description': {'urls': []}},\n",
       "   'protected': False,\n",
       "   'followers_count': 107170,\n",
       "   'friends_count': 1404,\n",
       "   'listed_count': 442,\n",
       "   'created_at': 'Mon Jul 07 21:24:44 +0000 2014',\n",
       "   'favourites_count': 31575,\n",
       "   'utc_offset': None,\n",
       "   'time_zone': None,\n",
       "   'geo_enabled': True,\n",
       "   'verified': True,\n",
       "   'statuses_count': 16870,\n",
       "   'lang': None,\n",
       "   'contributors_enabled': False,\n",
       "   'is_translator': False,\n",
       "   'is_translation_enabled': False,\n",
       "   'profile_background_color': 'C0DEED',\n",
       "   'profile_background_image_url': 'http://abs.twimg.com/images/themes/theme1/bg.png',\n",
       "   'profile_background_image_url_https': 'https://abs.twimg.com/images/themes/theme1/bg.png',\n",
       "   'profile_background_tile': False,\n",
       "   'profile_image_url': 'http://pbs.twimg.com/profile_images/1128355031508500483/LKhVroAj_normal.jpg',\n",
       "   'profile_image_url_https': 'https://pbs.twimg.com/profile_images/1128355031508500483/LKhVroAj_normal.jpg',\n",
       "   'profile_banner_url': 'https://pbs.twimg.com/profile_banners/2610470250/1469237546',\n",
       "   'profile_link_color': '1DA1F2',\n",
       "   'profile_sidebar_border_color': 'C0DEED',\n",
       "   'profile_sidebar_fill_color': 'DDEEF6',\n",
       "   'profile_text_color': '333333',\n",
       "   'profile_use_background_image': True,\n",
       "   'has_extended_profile': False,\n",
       "   'default_profile': True,\n",
       "   'default_profile_image': False,\n",
       "   'following': False,\n",
       "   'follow_request_sent': False,\n",
       "   'notifications': False,\n",
       "   'translator_type': 'none',\n",
       "   'withheld_in_countries': []},\n",
       "  'geo': None,\n",
       "  'coordinates': None,\n",
       "  'place': None,\n",
       "  'contributors': None,\n",
       "  'is_quote_status': False,\n",
       "  'retweet_count': 0,\n",
       "  'favorite_count': 0,\n",
       "  'favorited': False,\n",
       "  'retweeted': False,\n",
       "  'lang': 'en'}]"
      ]
     },
     "execution_count": 22,
     "metadata": {},
     "output_type": "execute_result"
    }
   ],
   "source": [
    "timeline"
   ]
  },
  {
   "cell_type": "code",
   "execution_count": 3,
   "metadata": {},
   "outputs": [
    {
     "name": "stdout",
     "output_type": "stream",
     "text": [
      "100\n",
      "Length of statuses 100\n",
      "?max_id=1467560746745835528&q=Glossier&lang=en&count=100&include_entities=1\n",
      "{'max_id': '1467560746745835528', 'q': 'Glossier', 'lang': 'en', 'count': '100', 'include_entities': '1'}\n",
      "Length of statuses 200\n",
      "?max_id=1467265497381048319&q=Glossier&lang=en&count=100&include_entities=1\n",
      "{'max_id': '1467265497381048319', 'q': 'Glossier', 'lang': 'en', 'count': '100', 'include_entities': '1'}\n",
      "Length of statuses 300\n",
      "?max_id=1466945540554321920&q=Glossier&lang=en&count=100&include_entities=1\n",
      "{'max_id': '1466945540554321920', 'q': 'Glossier', 'lang': 'en', 'count': '100', 'include_entities': '1'}\n",
      "Length of statuses 400\n",
      "?max_id=1466727579461865472&q=Glossier&lang=en&count=100&include_entities=1\n",
      "{'max_id': '1466727579461865472', 'q': 'Glossier', 'lang': 'en', 'count': '100', 'include_entities': '1'}\n",
      "Length of statuses 500\n",
      "?max_id=1466389349625442314&q=Glossier&lang=en&count=100&include_entities=1\n",
      "{'max_id': '1466389349625442314', 'q': 'Glossier', 'lang': 'en', 'count': '100', 'include_entities': '1'}\n",
      "Length of statuses 600\n",
      "?max_id=1466179412404150272&q=Glossier&lang=en&count=100&include_entities=1\n",
      "{'max_id': '1466179412404150272', 'q': 'Glossier', 'lang': 'en', 'count': '100', 'include_entities': '1'}\n",
      "Length of statuses 700\n",
      "?max_id=1466048164620873727&q=Glossier&lang=en&count=100&include_entities=1\n",
      "{'max_id': '1466048164620873727', 'q': 'Glossier', 'lang': 'en', 'count': '100', 'include_entities': '1'}\n",
      "Length of statuses 800\n",
      "?max_id=1465829463480881160&q=Glossier&lang=en&count=100&include_entities=1\n",
      "{'max_id': '1465829463480881160', 'q': 'Glossier', 'lang': 'en', 'count': '100', 'include_entities': '1'}\n",
      "Length of statuses 900\n",
      "?max_id=1465652694631305226&q=Glossier&lang=en&count=100&include_entities=1\n",
      "{'max_id': '1465652694631305226', 'q': 'Glossier', 'lang': 'en', 'count': '100', 'include_entities': '1'}\n",
      "Length of statuses 1000\n",
      "?max_id=1465459447141183489&q=Glossier&lang=en&count=100&include_entities=1\n",
      "{'max_id': '1465459447141183489', 'q': 'Glossier', 'lang': 'en', 'count': '100', 'include_entities': '1'}\n"
     ]
    }
   ],
   "source": [
    "data = getData(\"Glossier\", 100)"
   ]
  },
  {
   "cell_type": "code",
   "execution_count": 2,
   "metadata": {},
   "outputs": [],
   "source": [
    "import json\n",
    "from textblob import TextBlob\n",
    "\n",
    "from nltk.corpus import stopwords\n",
    "from nltk.tokenize import word_tokenize\n",
    "from nltk.sentiment.vader import SentimentIntensityAnalyzer\n",
    "import html\n",
    "import re\n",
    "import pandas as pd\n",
    "import datetime\n"
   ]
  },
  {
   "cell_type": "code",
   "execution_count": 5,
   "metadata": {},
   "outputs": [
    {
     "data": {
      "text/plain": [
       "<function TextIOWrapper.close()>"
      ]
     },
     "execution_count": 5,
     "metadata": {},
     "output_type": "execute_result"
    }
   ],
   "source": [
    "#Saving data for later so its consistant\n",
    "data = json.dumps(data)\n",
    "\n",
    "file = open('moredata.txt', 'w')\n",
    "file.write(data)\n",
    "file.close\n"
   ]
  },
  {
   "cell_type": "code",
   "execution_count": 12,
   "metadata": {},
   "outputs": [],
   "source": [
    "#Opening saved data\n",
    "file = open(\"moredata.txt\", 'r')\n",
    "data = file.read()\n",
    "d = json.loads(data)\n",
    "\n",
    "file2 = open(\"newdata.txt\", 'r')\n",
    "data2 = file2.read()\n",
    "d2 = json.loads(data2)\n",
    "\n",
    "file3 = open(\"data.txt\", 'r')\n",
    "data3 = file3.read()\n",
    "d3 = json.loads(data3)\n"
   ]
  },
  {
   "cell_type": "code",
   "execution_count": 4,
   "metadata": {},
   "outputs": [],
   "source": []
  },
  {
   "cell_type": "code",
   "execution_count": 13,
   "metadata": {},
   "outputs": [],
   "source": [
    "df = pd.DataFrame(d)\n",
    "df2 = pd.DataFrame(d2)\n",
    "df3 = pd.DataFrame(d3)\n"
   ]
  },
  {
   "cell_type": "code",
   "execution_count": 20,
   "metadata": {},
   "outputs": [],
   "source": [
    "combo = df.append(df2).append(df3).reset_index()"
   ]
  },
  {
   "cell_type": "code",
   "execution_count": 22,
   "metadata": {},
   "outputs": [],
   "source": [
    "export = combo[[\"created_at\", \"text\", \"entities\", \"retweet_count\", \"favorite_count\"]]"
   ]
  },
  {
   "cell_type": "code",
   "execution_count": 27,
   "metadata": {},
   "outputs": [],
   "source": [
    "df = df[~df.text.str.contains(\"@metacritic\")]\n",
    "d = json.loads(df.to_json(orient=\"records\"))"
   ]
  },
  {
   "cell_type": "code",
   "execution_count": 23,
   "metadata": {},
   "outputs": [],
   "source": [
    "export.to_csv(\"dataexport.csv\")"
   ]
  },
  {
   "cell_type": "markdown",
   "metadata": {},
   "source": [
    "## Running after collecting data starts here"
   ]
  },
  {
   "cell_type": "code",
   "execution_count": 3,
   "metadata": {},
   "outputs": [],
   "source": [
    "allDataImport = pd.read_csv(\"dataexport.csv\")"
   ]
  },
  {
   "cell_type": "code",
   "execution_count": 4,
   "metadata": {},
   "outputs": [],
   "source": [
    "glossOnly = allDataImport[allDataImport[\"keep?\"] == 1]"
   ]
  },
  {
   "cell_type": "code",
   "execution_count": 5,
   "metadata": {},
   "outputs": [],
   "source": [
    "glossOnly = glossOnly.drop([\"keep?\", \"Unnamed: 0\"],axis=1)"
   ]
  },
  {
   "cell_type": "code",
   "execution_count": 6,
   "metadata": {},
   "outputs": [],
   "source": [
    "noRT = glossOnly[~glossOnly[\"text\"].str.contains(\"RT\")]"
   ]
  },
  {
   "cell_type": "code",
   "execution_count": 7,
   "metadata": {},
   "outputs": [
    {
     "name": "stderr",
     "output_type": "stream",
     "text": [
      "C:\\Users\\ragop\\AppData\\Local\\Temp/ipykernel_8108/623958655.py:1: SettingWithCopyWarning: \n",
      "A value is trying to be set on a copy of a slice from a DataFrame.\n",
      "Try using .loc[row_indexer,col_indexer] = value instead\n",
      "\n",
      "See the caveats in the documentation: https://pandas.pydata.org/pandas-docs/stable/user_guide/indexing.html#returning-a-view-versus-a-copy\n",
      "  noRT[\"date\"] = noRT.created_at.apply(lambda x:datetime.datetime.strptime(x,'%a %b %d %H:%M:%S %z %Y').date())\n"
     ]
    }
   ],
   "source": [
    "noRT[\"date\"] = noRT.created_at.apply(lambda x:datetime.datetime.strptime(x,'%a %b %d %H:%M:%S %z %Y').date())"
   ]
  },
  {
   "cell_type": "code",
   "execution_count": 8,
   "metadata": {},
   "outputs": [
    {
     "name": "stderr",
     "output_type": "stream",
     "text": [
      "C:\\Users\\ragop\\AppData\\Local\\Temp/ipykernel_8108/702788600.py:5: SettingWithCopyWarning: \n",
      "A value is trying to be set on a copy of a slice from a DataFrame\n",
      "\n",
      "See the caveats in the documentation: https://pandas.pydata.org/pandas-docs/stable/user_guide/indexing.html#returning-a-view-versus-a-copy\n",
      "  tweets[\"text\"][i] = html.unescape(x)\n"
     ]
    },
    {
     "data": {
      "text/html": [
       "<div>\n",
       "<style scoped>\n",
       "    .dataframe tbody tr th:only-of-type {\n",
       "        vertical-align: middle;\n",
       "    }\n",
       "\n",
       "    .dataframe tbody tr th {\n",
       "        vertical-align: top;\n",
       "    }\n",
       "\n",
       "    .dataframe thead th {\n",
       "        text-align: right;\n",
       "    }\n",
       "</style>\n",
       "<table border=\"1\" class=\"dataframe\">\n",
       "  <thead>\n",
       "    <tr style=\"text-align: right;\">\n",
       "      <th></th>\n",
       "      <th>created_at</th>\n",
       "      <th>text</th>\n",
       "      <th>entities</th>\n",
       "      <th>retweet_count</th>\n",
       "      <th>favorite_count</th>\n",
       "      <th>date</th>\n",
       "    </tr>\n",
       "  </thead>\n",
       "  <tbody>\n",
       "    <tr>\n",
       "      <th>0</th>\n",
       "      <td>Mon Dec 06 15:53:17 +0000 2021</td>\n",
       "      <td>omg my glossier order came with twooooooo big ...</td>\n",
       "      <td>{'hashtags': [], 'symbols': [], 'user_mentions...</td>\n",
       "      <td>0</td>\n",
       "      <td>0</td>\n",
       "      <td>2021-12-06</td>\n",
       "    </tr>\n",
       "    <tr>\n",
       "      <th>1</th>\n",
       "      <td>Mon Dec 06 15:15:58 +0000 2021</td>\n",
       "      <td>omg theyre opening a @glossier store in london...</td>\n",
       "      <td>{'hashtags': [], 'symbols': [], 'user_mentions...</td>\n",
       "      <td>0</td>\n",
       "      <td>1</td>\n",
       "      <td>2021-12-06</td>\n",
       "    </tr>\n",
       "    <tr>\n",
       "      <th>2</th>\n",
       "      <td>Mon Dec 06 15:04:02 +0000 2021</td>\n",
       "      <td>the amount of glossier products i own you’d th...</td>\n",
       "      <td>{'hashtags': [], 'symbols': [], 'user_mentions...</td>\n",
       "      <td>0</td>\n",
       "      <td>0</td>\n",
       "      <td>2021-12-06</td>\n",
       "    </tr>\n",
       "    <tr>\n",
       "      <th>3</th>\n",
       "      <td>Mon Dec 06 14:53:59 +0000 2021</td>\n",
       "      <td>not someone in chat saying syks mom does his e...</td>\n",
       "      <td>{'hashtags': [], 'symbols': [], 'user_mentions...</td>\n",
       "      <td>0</td>\n",
       "      <td>16</td>\n",
       "      <td>2021-12-06</td>\n",
       "    </tr>\n",
       "    <tr>\n",
       "      <th>4</th>\n",
       "      <td>Mon Dec 06 14:24:07 +0000 2021</td>\n",
       "      <td>@knoxdiver i really like glossier’s https://t....</td>\n",
       "      <td>{'hashtags': [], 'symbols': [], 'user_mentions...</td>\n",
       "      <td>0</td>\n",
       "      <td>0</td>\n",
       "      <td>2021-12-06</td>\n",
       "    </tr>\n",
       "  </tbody>\n",
       "</table>\n",
       "</div>"
      ],
      "text/plain": [
       "                       created_at  \\\n",
       "0  Mon Dec 06 15:53:17 +0000 2021   \n",
       "1  Mon Dec 06 15:15:58 +0000 2021   \n",
       "2  Mon Dec 06 15:04:02 +0000 2021   \n",
       "3  Mon Dec 06 14:53:59 +0000 2021   \n",
       "4  Mon Dec 06 14:24:07 +0000 2021   \n",
       "\n",
       "                                                text  \\\n",
       "0  omg my glossier order came with twooooooo big ...   \n",
       "1  omg theyre opening a @glossier store in london...   \n",
       "2  the amount of glossier products i own you’d th...   \n",
       "3  not someone in chat saying syks mom does his e...   \n",
       "4  @knoxdiver i really like glossier’s https://t....   \n",
       "\n",
       "                                            entities  retweet_count  \\\n",
       "0  {'hashtags': [], 'symbols': [], 'user_mentions...              0   \n",
       "1  {'hashtags': [], 'symbols': [], 'user_mentions...              0   \n",
       "2  {'hashtags': [], 'symbols': [], 'user_mentions...              0   \n",
       "3  {'hashtags': [], 'symbols': [], 'user_mentions...              0   \n",
       "4  {'hashtags': [], 'symbols': [], 'user_mentions...              0   \n",
       "\n",
       "   favorite_count        date  \n",
       "0               0  2021-12-06  \n",
       "1               1  2021-12-06  \n",
       "2               0  2021-12-06  \n",
       "3              16  2021-12-06  \n",
       "4               0  2021-12-06  "
      ]
     },
     "execution_count": 8,
     "metadata": {},
     "output_type": "execute_result"
    }
   ],
   "source": [
    "tweets = noRT.reset_index(drop = True)\n",
    "for i in range (len(tweets)):\n",
    "    x = tweets[\"text\"][i].replace( \"\\n\" ,\" \") \n",
    "    #cleaning newline “\\n” from the tweets\n",
    "    tweets[\"text\"][i] = html.unescape(x)\n",
    "tweets['text'] = tweets[\"text\"].str.lower()\n",
    "tweets.head()"
   ]
  },
  {
   "cell_type": "code",
   "execution_count": 9,
   "metadata": {},
   "outputs": [
    {
     "name": "stderr",
     "output_type": "stream",
     "text": [
      "C:\\Users\\ragop\\AppData\\Local\\Temp/ipykernel_8108/2442837603.py:2: SettingWithCopyWarning: \n",
      "A value is trying to be set on a copy of a slice from a DataFrame\n",
      "\n",
      "See the caveats in the documentation: https://pandas.pydata.org/pandas-docs/stable/user_guide/indexing.html#returning-a-view-versus-a-copy\n",
      "  tweets[\"text\"][i] = re.sub(r\"(@[A-Za-z0–9_]+)|[^\\w\\s]|#|http\\S+\", \"\",\n"
     ]
    },
    {
     "data": {
      "text/html": [
       "<div>\n",
       "<style scoped>\n",
       "    .dataframe tbody tr th:only-of-type {\n",
       "        vertical-align: middle;\n",
       "    }\n",
       "\n",
       "    .dataframe tbody tr th {\n",
       "        vertical-align: top;\n",
       "    }\n",
       "\n",
       "    .dataframe thead th {\n",
       "        text-align: right;\n",
       "    }\n",
       "</style>\n",
       "<table border=\"1\" class=\"dataframe\">\n",
       "  <thead>\n",
       "    <tr style=\"text-align: right;\">\n",
       "      <th></th>\n",
       "      <th>created_at</th>\n",
       "      <th>text</th>\n",
       "      <th>entities</th>\n",
       "      <th>retweet_count</th>\n",
       "      <th>favorite_count</th>\n",
       "      <th>date</th>\n",
       "    </tr>\n",
       "  </thead>\n",
       "  <tbody>\n",
       "    <tr>\n",
       "      <th>0</th>\n",
       "      <td>Mon Dec 06 15:53:17 +0000 2021</td>\n",
       "      <td>omg my glossier order came with twooooooo big ...</td>\n",
       "      <td>{'hashtags': [], 'symbols': [], 'user_mentions...</td>\n",
       "      <td>0</td>\n",
       "      <td>0</td>\n",
       "      <td>2021-12-06</td>\n",
       "    </tr>\n",
       "    <tr>\n",
       "      <th>1</th>\n",
       "      <td>Mon Dec 06 15:15:58 +0000 2021</td>\n",
       "      <td>omg theyre opening a  store in london this month</td>\n",
       "      <td>{'hashtags': [], 'symbols': [], 'user_mentions...</td>\n",
       "      <td>0</td>\n",
       "      <td>1</td>\n",
       "      <td>2021-12-06</td>\n",
       "    </tr>\n",
       "    <tr>\n",
       "      <th>2</th>\n",
       "      <td>Mon Dec 06 15:04:02 +0000 2021</td>\n",
       "      <td>the amount of glossier products i own youd thi...</td>\n",
       "      <td>{'hashtags': [], 'symbols': [], 'user_mentions...</td>\n",
       "      <td>0</td>\n",
       "      <td>0</td>\n",
       "      <td>2021-12-06</td>\n",
       "    </tr>\n",
       "    <tr>\n",
       "      <th>3</th>\n",
       "      <td>Mon Dec 06 14:53:59 +0000 2021</td>\n",
       "      <td>not someone in chat saying syks mom does his e...</td>\n",
       "      <td>{'hashtags': [], 'symbols': [], 'user_mentions...</td>\n",
       "      <td>0</td>\n",
       "      <td>16</td>\n",
       "      <td>2021-12-06</td>\n",
       "    </tr>\n",
       "    <tr>\n",
       "      <th>4</th>\n",
       "      <td>Mon Dec 06 14:24:07 +0000 2021</td>\n",
       "      <td>i really like glossiers</td>\n",
       "      <td>{'hashtags': [], 'symbols': [], 'user_mentions...</td>\n",
       "      <td>0</td>\n",
       "      <td>0</td>\n",
       "      <td>2021-12-06</td>\n",
       "    </tr>\n",
       "  </tbody>\n",
       "</table>\n",
       "</div>"
      ],
      "text/plain": [
       "                       created_at  \\\n",
       "0  Mon Dec 06 15:53:17 +0000 2021   \n",
       "1  Mon Dec 06 15:15:58 +0000 2021   \n",
       "2  Mon Dec 06 15:04:02 +0000 2021   \n",
       "3  Mon Dec 06 14:53:59 +0000 2021   \n",
       "4  Mon Dec 06 14:24:07 +0000 2021   \n",
       "\n",
       "                                                text  \\\n",
       "0  omg my glossier order came with twooooooo big ...   \n",
       "1   omg theyre opening a  store in london this month   \n",
       "2  the amount of glossier products i own youd thi...   \n",
       "3  not someone in chat saying syks mom does his e...   \n",
       "4                           i really like glossiers    \n",
       "\n",
       "                                            entities  retweet_count  \\\n",
       "0  {'hashtags': [], 'symbols': [], 'user_mentions...              0   \n",
       "1  {'hashtags': [], 'symbols': [], 'user_mentions...              0   \n",
       "2  {'hashtags': [], 'symbols': [], 'user_mentions...              0   \n",
       "3  {'hashtags': [], 'symbols': [], 'user_mentions...              0   \n",
       "4  {'hashtags': [], 'symbols': [], 'user_mentions...              0   \n",
       "\n",
       "   favorite_count        date  \n",
       "0               0  2021-12-06  \n",
       "1               1  2021-12-06  \n",
       "2               0  2021-12-06  \n",
       "3              16  2021-12-06  \n",
       "4               0  2021-12-06  "
      ]
     },
     "execution_count": 9,
     "metadata": {},
     "output_type": "execute_result"
    }
   ],
   "source": [
    "for i in range (len(tweets)):\n",
    "    tweets[\"text\"][i] = re.sub(r\"(@[A-Za-z0–9_]+)|[^\\w\\s]|#|http\\S+\", \"\",\n",
    "     tweets[\"text\"][i])\n",
    "tweets.head()"
   ]
  },
  {
   "cell_type": "code",
   "execution_count": 10,
   "metadata": {},
   "outputs": [],
   "source": [
    "sw = stopwords.words(\"english\")\n",
    "sw.remove(\"not\")"
   ]
  },
  {
   "cell_type": "code",
   "execution_count": 11,
   "metadata": {},
   "outputs": [
    {
     "data": {
      "text/html": [
       "<div>\n",
       "<style scoped>\n",
       "    .dataframe tbody tr th:only-of-type {\n",
       "        vertical-align: middle;\n",
       "    }\n",
       "\n",
       "    .dataframe tbody tr th {\n",
       "        vertical-align: top;\n",
       "    }\n",
       "\n",
       "    .dataframe thead th {\n",
       "        text-align: right;\n",
       "    }\n",
       "</style>\n",
       "<table border=\"1\" class=\"dataframe\">\n",
       "  <thead>\n",
       "    <tr style=\"text-align: right;\">\n",
       "      <th></th>\n",
       "      <th>created_at</th>\n",
       "      <th>text</th>\n",
       "      <th>entities</th>\n",
       "      <th>retweet_count</th>\n",
       "      <th>favorite_count</th>\n",
       "      <th>date</th>\n",
       "      <th>sentiment</th>\n",
       "    </tr>\n",
       "  </thead>\n",
       "  <tbody>\n",
       "    <tr>\n",
       "      <th>0</th>\n",
       "      <td>Mon Dec 06 15:53:17 +0000 2021</td>\n",
       "      <td>omg my glossier order came with twooooooo big ...</td>\n",
       "      <td>{'hashtags': [], 'symbols': [], 'user_mentions...</td>\n",
       "      <td>0</td>\n",
       "      <td>0</td>\n",
       "      <td>2021-12-06</td>\n",
       "      <td>0.2500</td>\n",
       "    </tr>\n",
       "    <tr>\n",
       "      <th>1</th>\n",
       "      <td>Mon Dec 06 15:15:58 +0000 2021</td>\n",
       "      <td>omg theyre opening a  store in london this month</td>\n",
       "      <td>{'hashtags': [], 'symbols': [], 'user_mentions...</td>\n",
       "      <td>0</td>\n",
       "      <td>1</td>\n",
       "      <td>2021-12-06</td>\n",
       "      <td>0.2500</td>\n",
       "    </tr>\n",
       "    <tr>\n",
       "      <th>2</th>\n",
       "      <td>Mon Dec 06 15:04:02 +0000 2021</td>\n",
       "      <td>the amount of glossier products i own youd thi...</td>\n",
       "      <td>{'hashtags': [], 'symbols': [], 'user_mentions...</td>\n",
       "      <td>0</td>\n",
       "      <td>0</td>\n",
       "      <td>2021-12-06</td>\n",
       "      <td>0.0000</td>\n",
       "    </tr>\n",
       "    <tr>\n",
       "      <th>3</th>\n",
       "      <td>Mon Dec 06 14:53:59 +0000 2021</td>\n",
       "      <td>not someone in chat saying syks mom does his e...</td>\n",
       "      <td>{'hashtags': [], 'symbols': [], 'user_mentions...</td>\n",
       "      <td>0</td>\n",
       "      <td>16</td>\n",
       "      <td>2021-12-06</td>\n",
       "      <td>0.5423</td>\n",
       "    </tr>\n",
       "    <tr>\n",
       "      <th>4</th>\n",
       "      <td>Mon Dec 06 14:24:07 +0000 2021</td>\n",
       "      <td>i really like glossiers</td>\n",
       "      <td>{'hashtags': [], 'symbols': [], 'user_mentions...</td>\n",
       "      <td>0</td>\n",
       "      <td>0</td>\n",
       "      <td>2021-12-06</td>\n",
       "      <td>0.4201</td>\n",
       "    </tr>\n",
       "  </tbody>\n",
       "</table>\n",
       "</div>"
      ],
      "text/plain": [
       "                       created_at  \\\n",
       "0  Mon Dec 06 15:53:17 +0000 2021   \n",
       "1  Mon Dec 06 15:15:58 +0000 2021   \n",
       "2  Mon Dec 06 15:04:02 +0000 2021   \n",
       "3  Mon Dec 06 14:53:59 +0000 2021   \n",
       "4  Mon Dec 06 14:24:07 +0000 2021   \n",
       "\n",
       "                                                text  \\\n",
       "0  omg my glossier order came with twooooooo big ...   \n",
       "1   omg theyre opening a  store in london this month   \n",
       "2  the amount of glossier products i own youd thi...   \n",
       "3  not someone in chat saying syks mom does his e...   \n",
       "4                           i really like glossiers    \n",
       "\n",
       "                                            entities  retweet_count  \\\n",
       "0  {'hashtags': [], 'symbols': [], 'user_mentions...              0   \n",
       "1  {'hashtags': [], 'symbols': [], 'user_mentions...              0   \n",
       "2  {'hashtags': [], 'symbols': [], 'user_mentions...              0   \n",
       "3  {'hashtags': [], 'symbols': [], 'user_mentions...              0   \n",
       "4  {'hashtags': [], 'symbols': [], 'user_mentions...              0   \n",
       "\n",
       "   favorite_count        date  sentiment  \n",
       "0               0  2021-12-06     0.2500  \n",
       "1               1  2021-12-06     0.2500  \n",
       "2               0  2021-12-06     0.0000  \n",
       "3              16  2021-12-06     0.5423  \n",
       "4               0  2021-12-06     0.4201  "
      ]
     },
     "execution_count": 11,
     "metadata": {},
     "output_type": "execute_result"
    }
   ],
   "source": [
    "listScores = []\n",
    "sia = SentimentIntensityAnalyzer()\n",
    "word_dict = {'omg':1}\n",
    "sia.lexicon.update(word_dict)\n",
    "\n",
    "for i in tweets[\"text\"]:\n",
    "    listScores.append((sia.polarity_scores(str(i)))['compound'])\n",
    "\n",
    "tweets[\"sentiment\"] = pd.Series(listScores)\n",
    "tweets.head()\n"
   ]
  },
  {
   "cell_type": "code",
   "execution_count": 12,
   "metadata": {},
   "outputs": [
    {
     "data": {
      "text/html": [
       "<div>\n",
       "<style scoped>\n",
       "    .dataframe tbody tr th:only-of-type {\n",
       "        vertical-align: middle;\n",
       "    }\n",
       "\n",
       "    .dataframe tbody tr th {\n",
       "        vertical-align: top;\n",
       "    }\n",
       "\n",
       "    .dataframe thead th {\n",
       "        text-align: right;\n",
       "    }\n",
       "</style>\n",
       "<table border=\"1\" class=\"dataframe\">\n",
       "  <thead>\n",
       "    <tr style=\"text-align: right;\">\n",
       "      <th></th>\n",
       "      <th>created_at</th>\n",
       "      <th>text</th>\n",
       "      <th>entities</th>\n",
       "      <th>retweet_count</th>\n",
       "      <th>favorite_count</th>\n",
       "      <th>date</th>\n",
       "      <th>sentiment</th>\n",
       "      <th>sentiment_category</th>\n",
       "    </tr>\n",
       "  </thead>\n",
       "  <tbody>\n",
       "    <tr>\n",
       "      <th>0</th>\n",
       "      <td>Mon Dec 06 15:53:17 +0000 2021</td>\n",
       "      <td>omg my glossier order came with twooooooo big ...</td>\n",
       "      <td>{'hashtags': [], 'symbols': [], 'user_mentions...</td>\n",
       "      <td>0</td>\n",
       "      <td>0</td>\n",
       "      <td>2021-12-06</td>\n",
       "      <td>0.2500</td>\n",
       "      <td>positive</td>\n",
       "    </tr>\n",
       "    <tr>\n",
       "      <th>1</th>\n",
       "      <td>Mon Dec 06 15:15:58 +0000 2021</td>\n",
       "      <td>omg theyre opening a  store in london this month</td>\n",
       "      <td>{'hashtags': [], 'symbols': [], 'user_mentions...</td>\n",
       "      <td>0</td>\n",
       "      <td>1</td>\n",
       "      <td>2021-12-06</td>\n",
       "      <td>0.2500</td>\n",
       "      <td>positive</td>\n",
       "    </tr>\n",
       "    <tr>\n",
       "      <th>2</th>\n",
       "      <td>Mon Dec 06 15:04:02 +0000 2021</td>\n",
       "      <td>the amount of glossier products i own youd thi...</td>\n",
       "      <td>{'hashtags': [], 'symbols': [], 'user_mentions...</td>\n",
       "      <td>0</td>\n",
       "      <td>0</td>\n",
       "      <td>2021-12-06</td>\n",
       "      <td>0.0000</td>\n",
       "      <td>neutral</td>\n",
       "    </tr>\n",
       "    <tr>\n",
       "      <th>3</th>\n",
       "      <td>Mon Dec 06 14:53:59 +0000 2021</td>\n",
       "      <td>not someone in chat saying syks mom does his e...</td>\n",
       "      <td>{'hashtags': [], 'symbols': [], 'user_mentions...</td>\n",
       "      <td>0</td>\n",
       "      <td>16</td>\n",
       "      <td>2021-12-06</td>\n",
       "      <td>0.5423</td>\n",
       "      <td>positive</td>\n",
       "    </tr>\n",
       "    <tr>\n",
       "      <th>4</th>\n",
       "      <td>Mon Dec 06 14:24:07 +0000 2021</td>\n",
       "      <td>i really like glossiers</td>\n",
       "      <td>{'hashtags': [], 'symbols': [], 'user_mentions...</td>\n",
       "      <td>0</td>\n",
       "      <td>0</td>\n",
       "      <td>2021-12-06</td>\n",
       "      <td>0.4201</td>\n",
       "      <td>positive</td>\n",
       "    </tr>\n",
       "  </tbody>\n",
       "</table>\n",
       "</div>"
      ],
      "text/plain": [
       "                       created_at  \\\n",
       "0  Mon Dec 06 15:53:17 +0000 2021   \n",
       "1  Mon Dec 06 15:15:58 +0000 2021   \n",
       "2  Mon Dec 06 15:04:02 +0000 2021   \n",
       "3  Mon Dec 06 14:53:59 +0000 2021   \n",
       "4  Mon Dec 06 14:24:07 +0000 2021   \n",
       "\n",
       "                                                text  \\\n",
       "0  omg my glossier order came with twooooooo big ...   \n",
       "1   omg theyre opening a  store in london this month   \n",
       "2  the amount of glossier products i own youd thi...   \n",
       "3  not someone in chat saying syks mom does his e...   \n",
       "4                           i really like glossiers    \n",
       "\n",
       "                                            entities  retweet_count  \\\n",
       "0  {'hashtags': [], 'symbols': [], 'user_mentions...              0   \n",
       "1  {'hashtags': [], 'symbols': [], 'user_mentions...              0   \n",
       "2  {'hashtags': [], 'symbols': [], 'user_mentions...              0   \n",
       "3  {'hashtags': [], 'symbols': [], 'user_mentions...              0   \n",
       "4  {'hashtags': [], 'symbols': [], 'user_mentions...              0   \n",
       "\n",
       "   favorite_count        date  sentiment sentiment_category  \n",
       "0               0  2021-12-06     0.2500           positive  \n",
       "1               1  2021-12-06     0.2500           positive  \n",
       "2               0  2021-12-06     0.0000            neutral  \n",
       "3              16  2021-12-06     0.5423           positive  \n",
       "4               0  2021-12-06     0.4201           positive  "
      ]
     },
     "execution_count": 12,
     "metadata": {},
     "output_type": "execute_result"
    }
   ],
   "source": [
    "def sentiment_category(sentiment):\n",
    "    label = ''\n",
    "    if(sentiment > 0):\n",
    "        label = 'positive'\n",
    "    elif(sentiment == 0):\n",
    "        label = 'neutral'\n",
    "    else:\n",
    "        label = 'negative'\n",
    "    return(label)\n",
    "    \n",
    "tweets['sentiment_category'] = tweets['sentiment'].apply(sentiment_category)\n",
    "tweets.head()"
   ]
  },
  {
   "cell_type": "code",
   "execution_count": 13,
   "metadata": {},
   "outputs": [],
   "source": [
    "counts = tweets.sentiment_category.value_counts()"
   ]
  },
  {
   "cell_type": "code",
   "execution_count": 14,
   "metadata": {},
   "outputs": [
    {
     "data": {
      "text/plain": [
       "array([183, 144,  66], dtype=int64)"
      ]
     },
     "execution_count": 14,
     "metadata": {},
     "output_type": "execute_result"
    }
   ],
   "source": [
    "counts.values"
   ]
  },
  {
   "cell_type": "code",
   "execution_count": 15,
   "metadata": {},
   "outputs": [
    {
     "data": {
      "application/vnd.plotly.v1+json": {
       "config": {
        "plotlyServerURL": "https://plot.ly"
       },
       "data": [
        {
         "domain": {
          "x": [
           0,
           1
          ],
          "y": [
           0,
           1
          ]
         },
         "hovertemplate": "index=%{label}<br>value=%{value}<extra></extra>",
         "labels": [
          "positive",
          "neutral",
          "negative"
         ],
         "legendgroup": "",
         "name": "",
         "showlegend": true,
         "type": "pie",
         "values": [
          183,
          144,
          66
         ]
        }
       ],
       "layout": {
        "legend": {
         "tracegroupgap": 0
        },
        "template": {
         "data": {
          "bar": [
           {
            "error_x": {
             "color": "#2a3f5f"
            },
            "error_y": {
             "color": "#2a3f5f"
            },
            "marker": {
             "line": {
              "color": "#E5ECF6",
              "width": 0.5
             },
             "pattern": {
              "fillmode": "overlay",
              "size": 10,
              "solidity": 0.2
             }
            },
            "type": "bar"
           }
          ],
          "barpolar": [
           {
            "marker": {
             "line": {
              "color": "#E5ECF6",
              "width": 0.5
             },
             "pattern": {
              "fillmode": "overlay",
              "size": 10,
              "solidity": 0.2
             }
            },
            "type": "barpolar"
           }
          ],
          "carpet": [
           {
            "aaxis": {
             "endlinecolor": "#2a3f5f",
             "gridcolor": "white",
             "linecolor": "white",
             "minorgridcolor": "white",
             "startlinecolor": "#2a3f5f"
            },
            "baxis": {
             "endlinecolor": "#2a3f5f",
             "gridcolor": "white",
             "linecolor": "white",
             "minorgridcolor": "white",
             "startlinecolor": "#2a3f5f"
            },
            "type": "carpet"
           }
          ],
          "choropleth": [
           {
            "colorbar": {
             "outlinewidth": 0,
             "ticks": ""
            },
            "type": "choropleth"
           }
          ],
          "contour": [
           {
            "colorbar": {
             "outlinewidth": 0,
             "ticks": ""
            },
            "colorscale": [
             [
              0,
              "#0d0887"
             ],
             [
              0.1111111111111111,
              "#46039f"
             ],
             [
              0.2222222222222222,
              "#7201a8"
             ],
             [
              0.3333333333333333,
              "#9c179e"
             ],
             [
              0.4444444444444444,
              "#bd3786"
             ],
             [
              0.5555555555555556,
              "#d8576b"
             ],
             [
              0.6666666666666666,
              "#ed7953"
             ],
             [
              0.7777777777777778,
              "#fb9f3a"
             ],
             [
              0.8888888888888888,
              "#fdca26"
             ],
             [
              1,
              "#f0f921"
             ]
            ],
            "type": "contour"
           }
          ],
          "contourcarpet": [
           {
            "colorbar": {
             "outlinewidth": 0,
             "ticks": ""
            },
            "type": "contourcarpet"
           }
          ],
          "heatmap": [
           {
            "colorbar": {
             "outlinewidth": 0,
             "ticks": ""
            },
            "colorscale": [
             [
              0,
              "#0d0887"
             ],
             [
              0.1111111111111111,
              "#46039f"
             ],
             [
              0.2222222222222222,
              "#7201a8"
             ],
             [
              0.3333333333333333,
              "#9c179e"
             ],
             [
              0.4444444444444444,
              "#bd3786"
             ],
             [
              0.5555555555555556,
              "#d8576b"
             ],
             [
              0.6666666666666666,
              "#ed7953"
             ],
             [
              0.7777777777777778,
              "#fb9f3a"
             ],
             [
              0.8888888888888888,
              "#fdca26"
             ],
             [
              1,
              "#f0f921"
             ]
            ],
            "type": "heatmap"
           }
          ],
          "heatmapgl": [
           {
            "colorbar": {
             "outlinewidth": 0,
             "ticks": ""
            },
            "colorscale": [
             [
              0,
              "#0d0887"
             ],
             [
              0.1111111111111111,
              "#46039f"
             ],
             [
              0.2222222222222222,
              "#7201a8"
             ],
             [
              0.3333333333333333,
              "#9c179e"
             ],
             [
              0.4444444444444444,
              "#bd3786"
             ],
             [
              0.5555555555555556,
              "#d8576b"
             ],
             [
              0.6666666666666666,
              "#ed7953"
             ],
             [
              0.7777777777777778,
              "#fb9f3a"
             ],
             [
              0.8888888888888888,
              "#fdca26"
             ],
             [
              1,
              "#f0f921"
             ]
            ],
            "type": "heatmapgl"
           }
          ],
          "histogram": [
           {
            "marker": {
             "pattern": {
              "fillmode": "overlay",
              "size": 10,
              "solidity": 0.2
             }
            },
            "type": "histogram"
           }
          ],
          "histogram2d": [
           {
            "colorbar": {
             "outlinewidth": 0,
             "ticks": ""
            },
            "colorscale": [
             [
              0,
              "#0d0887"
             ],
             [
              0.1111111111111111,
              "#46039f"
             ],
             [
              0.2222222222222222,
              "#7201a8"
             ],
             [
              0.3333333333333333,
              "#9c179e"
             ],
             [
              0.4444444444444444,
              "#bd3786"
             ],
             [
              0.5555555555555556,
              "#d8576b"
             ],
             [
              0.6666666666666666,
              "#ed7953"
             ],
             [
              0.7777777777777778,
              "#fb9f3a"
             ],
             [
              0.8888888888888888,
              "#fdca26"
             ],
             [
              1,
              "#f0f921"
             ]
            ],
            "type": "histogram2d"
           }
          ],
          "histogram2dcontour": [
           {
            "colorbar": {
             "outlinewidth": 0,
             "ticks": ""
            },
            "colorscale": [
             [
              0,
              "#0d0887"
             ],
             [
              0.1111111111111111,
              "#46039f"
             ],
             [
              0.2222222222222222,
              "#7201a8"
             ],
             [
              0.3333333333333333,
              "#9c179e"
             ],
             [
              0.4444444444444444,
              "#bd3786"
             ],
             [
              0.5555555555555556,
              "#d8576b"
             ],
             [
              0.6666666666666666,
              "#ed7953"
             ],
             [
              0.7777777777777778,
              "#fb9f3a"
             ],
             [
              0.8888888888888888,
              "#fdca26"
             ],
             [
              1,
              "#f0f921"
             ]
            ],
            "type": "histogram2dcontour"
           }
          ],
          "mesh3d": [
           {
            "colorbar": {
             "outlinewidth": 0,
             "ticks": ""
            },
            "type": "mesh3d"
           }
          ],
          "parcoords": [
           {
            "line": {
             "colorbar": {
              "outlinewidth": 0,
              "ticks": ""
             }
            },
            "type": "parcoords"
           }
          ],
          "pie": [
           {
            "automargin": true,
            "type": "pie"
           }
          ],
          "scatter": [
           {
            "marker": {
             "colorbar": {
              "outlinewidth": 0,
              "ticks": ""
             }
            },
            "type": "scatter"
           }
          ],
          "scatter3d": [
           {
            "line": {
             "colorbar": {
              "outlinewidth": 0,
              "ticks": ""
             }
            },
            "marker": {
             "colorbar": {
              "outlinewidth": 0,
              "ticks": ""
             }
            },
            "type": "scatter3d"
           }
          ],
          "scattercarpet": [
           {
            "marker": {
             "colorbar": {
              "outlinewidth": 0,
              "ticks": ""
             }
            },
            "type": "scattercarpet"
           }
          ],
          "scattergeo": [
           {
            "marker": {
             "colorbar": {
              "outlinewidth": 0,
              "ticks": ""
             }
            },
            "type": "scattergeo"
           }
          ],
          "scattergl": [
           {
            "marker": {
             "colorbar": {
              "outlinewidth": 0,
              "ticks": ""
             }
            },
            "type": "scattergl"
           }
          ],
          "scattermapbox": [
           {
            "marker": {
             "colorbar": {
              "outlinewidth": 0,
              "ticks": ""
             }
            },
            "type": "scattermapbox"
           }
          ],
          "scatterpolar": [
           {
            "marker": {
             "colorbar": {
              "outlinewidth": 0,
              "ticks": ""
             }
            },
            "type": "scatterpolar"
           }
          ],
          "scatterpolargl": [
           {
            "marker": {
             "colorbar": {
              "outlinewidth": 0,
              "ticks": ""
             }
            },
            "type": "scatterpolargl"
           }
          ],
          "scatterternary": [
           {
            "marker": {
             "colorbar": {
              "outlinewidth": 0,
              "ticks": ""
             }
            },
            "type": "scatterternary"
           }
          ],
          "surface": [
           {
            "colorbar": {
             "outlinewidth": 0,
             "ticks": ""
            },
            "colorscale": [
             [
              0,
              "#0d0887"
             ],
             [
              0.1111111111111111,
              "#46039f"
             ],
             [
              0.2222222222222222,
              "#7201a8"
             ],
             [
              0.3333333333333333,
              "#9c179e"
             ],
             [
              0.4444444444444444,
              "#bd3786"
             ],
             [
              0.5555555555555556,
              "#d8576b"
             ],
             [
              0.6666666666666666,
              "#ed7953"
             ],
             [
              0.7777777777777778,
              "#fb9f3a"
             ],
             [
              0.8888888888888888,
              "#fdca26"
             ],
             [
              1,
              "#f0f921"
             ]
            ],
            "type": "surface"
           }
          ],
          "table": [
           {
            "cells": {
             "fill": {
              "color": "#EBF0F8"
             },
             "line": {
              "color": "white"
             }
            },
            "header": {
             "fill": {
              "color": "#C8D4E3"
             },
             "line": {
              "color": "white"
             }
            },
            "type": "table"
           }
          ]
         },
         "layout": {
          "annotationdefaults": {
           "arrowcolor": "#2a3f5f",
           "arrowhead": 0,
           "arrowwidth": 1
          },
          "autotypenumbers": "strict",
          "coloraxis": {
           "colorbar": {
            "outlinewidth": 0,
            "ticks": ""
           }
          },
          "colorscale": {
           "diverging": [
            [
             0,
             "#8e0152"
            ],
            [
             0.1,
             "#c51b7d"
            ],
            [
             0.2,
             "#de77ae"
            ],
            [
             0.3,
             "#f1b6da"
            ],
            [
             0.4,
             "#fde0ef"
            ],
            [
             0.5,
             "#f7f7f7"
            ],
            [
             0.6,
             "#e6f5d0"
            ],
            [
             0.7,
             "#b8e186"
            ],
            [
             0.8,
             "#7fbc41"
            ],
            [
             0.9,
             "#4d9221"
            ],
            [
             1,
             "#276419"
            ]
           ],
           "sequential": [
            [
             0,
             "#0d0887"
            ],
            [
             0.1111111111111111,
             "#46039f"
            ],
            [
             0.2222222222222222,
             "#7201a8"
            ],
            [
             0.3333333333333333,
             "#9c179e"
            ],
            [
             0.4444444444444444,
             "#bd3786"
            ],
            [
             0.5555555555555556,
             "#d8576b"
            ],
            [
             0.6666666666666666,
             "#ed7953"
            ],
            [
             0.7777777777777778,
             "#fb9f3a"
            ],
            [
             0.8888888888888888,
             "#fdca26"
            ],
            [
             1,
             "#f0f921"
            ]
           ],
           "sequentialminus": [
            [
             0,
             "#0d0887"
            ],
            [
             0.1111111111111111,
             "#46039f"
            ],
            [
             0.2222222222222222,
             "#7201a8"
            ],
            [
             0.3333333333333333,
             "#9c179e"
            ],
            [
             0.4444444444444444,
             "#bd3786"
            ],
            [
             0.5555555555555556,
             "#d8576b"
            ],
            [
             0.6666666666666666,
             "#ed7953"
            ],
            [
             0.7777777777777778,
             "#fb9f3a"
            ],
            [
             0.8888888888888888,
             "#fdca26"
            ],
            [
             1,
             "#f0f921"
            ]
           ]
          },
          "colorway": [
           "#636efa",
           "#EF553B",
           "#00cc96",
           "#ab63fa",
           "#FFA15A",
           "#19d3f3",
           "#FF6692",
           "#B6E880",
           "#FF97FF",
           "#FECB52"
          ],
          "font": {
           "color": "#2a3f5f"
          },
          "geo": {
           "bgcolor": "white",
           "lakecolor": "white",
           "landcolor": "#E5ECF6",
           "showlakes": true,
           "showland": true,
           "subunitcolor": "white"
          },
          "hoverlabel": {
           "align": "left"
          },
          "hovermode": "closest",
          "mapbox": {
           "style": "light"
          },
          "paper_bgcolor": "white",
          "plot_bgcolor": "#E5ECF6",
          "polar": {
           "angularaxis": {
            "gridcolor": "white",
            "linecolor": "white",
            "ticks": ""
           },
           "bgcolor": "#E5ECF6",
           "radialaxis": {
            "gridcolor": "white",
            "linecolor": "white",
            "ticks": ""
           }
          },
          "scene": {
           "xaxis": {
            "backgroundcolor": "#E5ECF6",
            "gridcolor": "white",
            "gridwidth": 2,
            "linecolor": "white",
            "showbackground": true,
            "ticks": "",
            "zerolinecolor": "white"
           },
           "yaxis": {
            "backgroundcolor": "#E5ECF6",
            "gridcolor": "white",
            "gridwidth": 2,
            "linecolor": "white",
            "showbackground": true,
            "ticks": "",
            "zerolinecolor": "white"
           },
           "zaxis": {
            "backgroundcolor": "#E5ECF6",
            "gridcolor": "white",
            "gridwidth": 2,
            "linecolor": "white",
            "showbackground": true,
            "ticks": "",
            "zerolinecolor": "white"
           }
          },
          "shapedefaults": {
           "line": {
            "color": "#2a3f5f"
           }
          },
          "ternary": {
           "aaxis": {
            "gridcolor": "white",
            "linecolor": "white",
            "ticks": ""
           },
           "baxis": {
            "gridcolor": "white",
            "linecolor": "white",
            "ticks": ""
           },
           "bgcolor": "#E5ECF6",
           "caxis": {
            "gridcolor": "white",
            "linecolor": "white",
            "ticks": ""
           }
          },
          "title": {
           "x": 0.05
          },
          "xaxis": {
           "automargin": true,
           "gridcolor": "white",
           "linecolor": "white",
           "ticks": "",
           "title": {
            "standoff": 15
           },
           "zerolinecolor": "white",
           "zerolinewidth": 2
          },
          "yaxis": {
           "automargin": true,
           "gridcolor": "white",
           "linecolor": "white",
           "ticks": "",
           "title": {
            "standoff": 15
           },
           "zerolinecolor": "white",
           "zerolinewidth": 2
          }
         }
        },
        "title": {
         "text": "Proportion of Tweets with Each Sentiment"
        }
       }
      }
     },
     "metadata": {},
     "output_type": "display_data"
    }
   ],
   "source": [
    "import plotly.express as px\n",
    "fig = px.pie(counts,values = counts.values, names = counts.index, title = \"Proportion of Tweets with Each Sentiment\")\n",
    "fig.show()"
   ]
  },
  {
   "cell_type": "code",
   "execution_count": 16,
   "metadata": {},
   "outputs": [],
   "source": [
    "means = tweets.groupby(\"sentiment_category\").mean()"
   ]
  },
  {
   "cell_type": "code",
   "execution_count": 17,
   "metadata": {},
   "outputs": [
    {
     "data": {
      "text/html": [
       "<div>\n",
       "<style scoped>\n",
       "    .dataframe tbody tr th:only-of-type {\n",
       "        vertical-align: middle;\n",
       "    }\n",
       "\n",
       "    .dataframe tbody tr th {\n",
       "        vertical-align: top;\n",
       "    }\n",
       "\n",
       "    .dataframe thead th {\n",
       "        text-align: right;\n",
       "    }\n",
       "</style>\n",
       "<table border=\"1\" class=\"dataframe\">\n",
       "  <thead>\n",
       "    <tr style=\"text-align: right;\">\n",
       "      <th></th>\n",
       "      <th>retweet_count</th>\n",
       "      <th>favorite_count</th>\n",
       "      <th>sentiment</th>\n",
       "    </tr>\n",
       "    <tr>\n",
       "      <th>sentiment_category</th>\n",
       "      <th></th>\n",
       "      <th></th>\n",
       "      <th></th>\n",
       "    </tr>\n",
       "  </thead>\n",
       "  <tbody>\n",
       "    <tr>\n",
       "      <th>negative</th>\n",
       "      <td>0.030303</td>\n",
       "      <td>4.090909</td>\n",
       "      <td>-0.403962</td>\n",
       "    </tr>\n",
       "    <tr>\n",
       "      <th>neutral</th>\n",
       "      <td>0.680556</td>\n",
       "      <td>12.145833</td>\n",
       "      <td>0.000000</td>\n",
       "    </tr>\n",
       "    <tr>\n",
       "      <th>positive</th>\n",
       "      <td>0.601093</td>\n",
       "      <td>16.163934</td>\n",
       "      <td>0.493414</td>\n",
       "    </tr>\n",
       "  </tbody>\n",
       "</table>\n",
       "</div>"
      ],
      "text/plain": [
       "                    retweet_count  favorite_count  sentiment\n",
       "sentiment_category                                          \n",
       "negative                 0.030303        4.090909  -0.403962\n",
       "neutral                  0.680556       12.145833   0.000000\n",
       "positive                 0.601093       16.163934   0.493414"
      ]
     },
     "execution_count": 17,
     "metadata": {},
     "output_type": "execute_result"
    }
   ],
   "source": [
    "means"
   ]
  },
  {
   "cell_type": "code",
   "execution_count": 18,
   "metadata": {},
   "outputs": [
    {
     "data": {
      "application/vnd.plotly.v1+json": {
       "config": {
        "plotlyServerURL": "https://plot.ly"
       },
       "data": [
        {
         "alignmentgroup": "True",
         "hovertemplate": "Sentiment=%{x}<br>Mean Likes=%{y}<extra></extra>",
         "legendgroup": "",
         "marker": {
          "color": "#636efa",
          "pattern": {
           "shape": ""
          }
         },
         "name": "",
         "offsetgroup": "",
         "orientation": "v",
         "showlegend": false,
         "textposition": "auto",
         "type": "bar",
         "x": [
          "negative",
          "neutral",
          "positive"
         ],
         "xaxis": "x",
         "y": [
          4.090909090909091,
          12.145833333333334,
          16.16393442622951
         ],
         "yaxis": "y"
        }
       ],
       "layout": {
        "barmode": "relative",
        "legend": {
         "tracegroupgap": 0
        },
        "template": {
         "data": {
          "bar": [
           {
            "error_x": {
             "color": "#2a3f5f"
            },
            "error_y": {
             "color": "#2a3f5f"
            },
            "marker": {
             "line": {
              "color": "#E5ECF6",
              "width": 0.5
             },
             "pattern": {
              "fillmode": "overlay",
              "size": 10,
              "solidity": 0.2
             }
            },
            "type": "bar"
           }
          ],
          "barpolar": [
           {
            "marker": {
             "line": {
              "color": "#E5ECF6",
              "width": 0.5
             },
             "pattern": {
              "fillmode": "overlay",
              "size": 10,
              "solidity": 0.2
             }
            },
            "type": "barpolar"
           }
          ],
          "carpet": [
           {
            "aaxis": {
             "endlinecolor": "#2a3f5f",
             "gridcolor": "white",
             "linecolor": "white",
             "minorgridcolor": "white",
             "startlinecolor": "#2a3f5f"
            },
            "baxis": {
             "endlinecolor": "#2a3f5f",
             "gridcolor": "white",
             "linecolor": "white",
             "minorgridcolor": "white",
             "startlinecolor": "#2a3f5f"
            },
            "type": "carpet"
           }
          ],
          "choropleth": [
           {
            "colorbar": {
             "outlinewidth": 0,
             "ticks": ""
            },
            "type": "choropleth"
           }
          ],
          "contour": [
           {
            "colorbar": {
             "outlinewidth": 0,
             "ticks": ""
            },
            "colorscale": [
             [
              0,
              "#0d0887"
             ],
             [
              0.1111111111111111,
              "#46039f"
             ],
             [
              0.2222222222222222,
              "#7201a8"
             ],
             [
              0.3333333333333333,
              "#9c179e"
             ],
             [
              0.4444444444444444,
              "#bd3786"
             ],
             [
              0.5555555555555556,
              "#d8576b"
             ],
             [
              0.6666666666666666,
              "#ed7953"
             ],
             [
              0.7777777777777778,
              "#fb9f3a"
             ],
             [
              0.8888888888888888,
              "#fdca26"
             ],
             [
              1,
              "#f0f921"
             ]
            ],
            "type": "contour"
           }
          ],
          "contourcarpet": [
           {
            "colorbar": {
             "outlinewidth": 0,
             "ticks": ""
            },
            "type": "contourcarpet"
           }
          ],
          "heatmap": [
           {
            "colorbar": {
             "outlinewidth": 0,
             "ticks": ""
            },
            "colorscale": [
             [
              0,
              "#0d0887"
             ],
             [
              0.1111111111111111,
              "#46039f"
             ],
             [
              0.2222222222222222,
              "#7201a8"
             ],
             [
              0.3333333333333333,
              "#9c179e"
             ],
             [
              0.4444444444444444,
              "#bd3786"
             ],
             [
              0.5555555555555556,
              "#d8576b"
             ],
             [
              0.6666666666666666,
              "#ed7953"
             ],
             [
              0.7777777777777778,
              "#fb9f3a"
             ],
             [
              0.8888888888888888,
              "#fdca26"
             ],
             [
              1,
              "#f0f921"
             ]
            ],
            "type": "heatmap"
           }
          ],
          "heatmapgl": [
           {
            "colorbar": {
             "outlinewidth": 0,
             "ticks": ""
            },
            "colorscale": [
             [
              0,
              "#0d0887"
             ],
             [
              0.1111111111111111,
              "#46039f"
             ],
             [
              0.2222222222222222,
              "#7201a8"
             ],
             [
              0.3333333333333333,
              "#9c179e"
             ],
             [
              0.4444444444444444,
              "#bd3786"
             ],
             [
              0.5555555555555556,
              "#d8576b"
             ],
             [
              0.6666666666666666,
              "#ed7953"
             ],
             [
              0.7777777777777778,
              "#fb9f3a"
             ],
             [
              0.8888888888888888,
              "#fdca26"
             ],
             [
              1,
              "#f0f921"
             ]
            ],
            "type": "heatmapgl"
           }
          ],
          "histogram": [
           {
            "marker": {
             "pattern": {
              "fillmode": "overlay",
              "size": 10,
              "solidity": 0.2
             }
            },
            "type": "histogram"
           }
          ],
          "histogram2d": [
           {
            "colorbar": {
             "outlinewidth": 0,
             "ticks": ""
            },
            "colorscale": [
             [
              0,
              "#0d0887"
             ],
             [
              0.1111111111111111,
              "#46039f"
             ],
             [
              0.2222222222222222,
              "#7201a8"
             ],
             [
              0.3333333333333333,
              "#9c179e"
             ],
             [
              0.4444444444444444,
              "#bd3786"
             ],
             [
              0.5555555555555556,
              "#d8576b"
             ],
             [
              0.6666666666666666,
              "#ed7953"
             ],
             [
              0.7777777777777778,
              "#fb9f3a"
             ],
             [
              0.8888888888888888,
              "#fdca26"
             ],
             [
              1,
              "#f0f921"
             ]
            ],
            "type": "histogram2d"
           }
          ],
          "histogram2dcontour": [
           {
            "colorbar": {
             "outlinewidth": 0,
             "ticks": ""
            },
            "colorscale": [
             [
              0,
              "#0d0887"
             ],
             [
              0.1111111111111111,
              "#46039f"
             ],
             [
              0.2222222222222222,
              "#7201a8"
             ],
             [
              0.3333333333333333,
              "#9c179e"
             ],
             [
              0.4444444444444444,
              "#bd3786"
             ],
             [
              0.5555555555555556,
              "#d8576b"
             ],
             [
              0.6666666666666666,
              "#ed7953"
             ],
             [
              0.7777777777777778,
              "#fb9f3a"
             ],
             [
              0.8888888888888888,
              "#fdca26"
             ],
             [
              1,
              "#f0f921"
             ]
            ],
            "type": "histogram2dcontour"
           }
          ],
          "mesh3d": [
           {
            "colorbar": {
             "outlinewidth": 0,
             "ticks": ""
            },
            "type": "mesh3d"
           }
          ],
          "parcoords": [
           {
            "line": {
             "colorbar": {
              "outlinewidth": 0,
              "ticks": ""
             }
            },
            "type": "parcoords"
           }
          ],
          "pie": [
           {
            "automargin": true,
            "type": "pie"
           }
          ],
          "scatter": [
           {
            "marker": {
             "colorbar": {
              "outlinewidth": 0,
              "ticks": ""
             }
            },
            "type": "scatter"
           }
          ],
          "scatter3d": [
           {
            "line": {
             "colorbar": {
              "outlinewidth": 0,
              "ticks": ""
             }
            },
            "marker": {
             "colorbar": {
              "outlinewidth": 0,
              "ticks": ""
             }
            },
            "type": "scatter3d"
           }
          ],
          "scattercarpet": [
           {
            "marker": {
             "colorbar": {
              "outlinewidth": 0,
              "ticks": ""
             }
            },
            "type": "scattercarpet"
           }
          ],
          "scattergeo": [
           {
            "marker": {
             "colorbar": {
              "outlinewidth": 0,
              "ticks": ""
             }
            },
            "type": "scattergeo"
           }
          ],
          "scattergl": [
           {
            "marker": {
             "colorbar": {
              "outlinewidth": 0,
              "ticks": ""
             }
            },
            "type": "scattergl"
           }
          ],
          "scattermapbox": [
           {
            "marker": {
             "colorbar": {
              "outlinewidth": 0,
              "ticks": ""
             }
            },
            "type": "scattermapbox"
           }
          ],
          "scatterpolar": [
           {
            "marker": {
             "colorbar": {
              "outlinewidth": 0,
              "ticks": ""
             }
            },
            "type": "scatterpolar"
           }
          ],
          "scatterpolargl": [
           {
            "marker": {
             "colorbar": {
              "outlinewidth": 0,
              "ticks": ""
             }
            },
            "type": "scatterpolargl"
           }
          ],
          "scatterternary": [
           {
            "marker": {
             "colorbar": {
              "outlinewidth": 0,
              "ticks": ""
             }
            },
            "type": "scatterternary"
           }
          ],
          "surface": [
           {
            "colorbar": {
             "outlinewidth": 0,
             "ticks": ""
            },
            "colorscale": [
             [
              0,
              "#0d0887"
             ],
             [
              0.1111111111111111,
              "#46039f"
             ],
             [
              0.2222222222222222,
              "#7201a8"
             ],
             [
              0.3333333333333333,
              "#9c179e"
             ],
             [
              0.4444444444444444,
              "#bd3786"
             ],
             [
              0.5555555555555556,
              "#d8576b"
             ],
             [
              0.6666666666666666,
              "#ed7953"
             ],
             [
              0.7777777777777778,
              "#fb9f3a"
             ],
             [
              0.8888888888888888,
              "#fdca26"
             ],
             [
              1,
              "#f0f921"
             ]
            ],
            "type": "surface"
           }
          ],
          "table": [
           {
            "cells": {
             "fill": {
              "color": "#EBF0F8"
             },
             "line": {
              "color": "white"
             }
            },
            "header": {
             "fill": {
              "color": "#C8D4E3"
             },
             "line": {
              "color": "white"
             }
            },
            "type": "table"
           }
          ]
         },
         "layout": {
          "annotationdefaults": {
           "arrowcolor": "#2a3f5f",
           "arrowhead": 0,
           "arrowwidth": 1
          },
          "autotypenumbers": "strict",
          "coloraxis": {
           "colorbar": {
            "outlinewidth": 0,
            "ticks": ""
           }
          },
          "colorscale": {
           "diverging": [
            [
             0,
             "#8e0152"
            ],
            [
             0.1,
             "#c51b7d"
            ],
            [
             0.2,
             "#de77ae"
            ],
            [
             0.3,
             "#f1b6da"
            ],
            [
             0.4,
             "#fde0ef"
            ],
            [
             0.5,
             "#f7f7f7"
            ],
            [
             0.6,
             "#e6f5d0"
            ],
            [
             0.7,
             "#b8e186"
            ],
            [
             0.8,
             "#7fbc41"
            ],
            [
             0.9,
             "#4d9221"
            ],
            [
             1,
             "#276419"
            ]
           ],
           "sequential": [
            [
             0,
             "#0d0887"
            ],
            [
             0.1111111111111111,
             "#46039f"
            ],
            [
             0.2222222222222222,
             "#7201a8"
            ],
            [
             0.3333333333333333,
             "#9c179e"
            ],
            [
             0.4444444444444444,
             "#bd3786"
            ],
            [
             0.5555555555555556,
             "#d8576b"
            ],
            [
             0.6666666666666666,
             "#ed7953"
            ],
            [
             0.7777777777777778,
             "#fb9f3a"
            ],
            [
             0.8888888888888888,
             "#fdca26"
            ],
            [
             1,
             "#f0f921"
            ]
           ],
           "sequentialminus": [
            [
             0,
             "#0d0887"
            ],
            [
             0.1111111111111111,
             "#46039f"
            ],
            [
             0.2222222222222222,
             "#7201a8"
            ],
            [
             0.3333333333333333,
             "#9c179e"
            ],
            [
             0.4444444444444444,
             "#bd3786"
            ],
            [
             0.5555555555555556,
             "#d8576b"
            ],
            [
             0.6666666666666666,
             "#ed7953"
            ],
            [
             0.7777777777777778,
             "#fb9f3a"
            ],
            [
             0.8888888888888888,
             "#fdca26"
            ],
            [
             1,
             "#f0f921"
            ]
           ]
          },
          "colorway": [
           "#636efa",
           "#EF553B",
           "#00cc96",
           "#ab63fa",
           "#FFA15A",
           "#19d3f3",
           "#FF6692",
           "#B6E880",
           "#FF97FF",
           "#FECB52"
          ],
          "font": {
           "color": "#2a3f5f"
          },
          "geo": {
           "bgcolor": "white",
           "lakecolor": "white",
           "landcolor": "#E5ECF6",
           "showlakes": true,
           "showland": true,
           "subunitcolor": "white"
          },
          "hoverlabel": {
           "align": "left"
          },
          "hovermode": "closest",
          "mapbox": {
           "style": "light"
          },
          "paper_bgcolor": "white",
          "plot_bgcolor": "#E5ECF6",
          "polar": {
           "angularaxis": {
            "gridcolor": "white",
            "linecolor": "white",
            "ticks": ""
           },
           "bgcolor": "#E5ECF6",
           "radialaxis": {
            "gridcolor": "white",
            "linecolor": "white",
            "ticks": ""
           }
          },
          "scene": {
           "xaxis": {
            "backgroundcolor": "#E5ECF6",
            "gridcolor": "white",
            "gridwidth": 2,
            "linecolor": "white",
            "showbackground": true,
            "ticks": "",
            "zerolinecolor": "white"
           },
           "yaxis": {
            "backgroundcolor": "#E5ECF6",
            "gridcolor": "white",
            "gridwidth": 2,
            "linecolor": "white",
            "showbackground": true,
            "ticks": "",
            "zerolinecolor": "white"
           },
           "zaxis": {
            "backgroundcolor": "#E5ECF6",
            "gridcolor": "white",
            "gridwidth": 2,
            "linecolor": "white",
            "showbackground": true,
            "ticks": "",
            "zerolinecolor": "white"
           }
          },
          "shapedefaults": {
           "line": {
            "color": "#2a3f5f"
           }
          },
          "ternary": {
           "aaxis": {
            "gridcolor": "white",
            "linecolor": "white",
            "ticks": ""
           },
           "baxis": {
            "gridcolor": "white",
            "linecolor": "white",
            "ticks": ""
           },
           "bgcolor": "#E5ECF6",
           "caxis": {
            "gridcolor": "white",
            "linecolor": "white",
            "ticks": ""
           }
          },
          "title": {
           "x": 0.05
          },
          "xaxis": {
           "automargin": true,
           "gridcolor": "white",
           "linecolor": "white",
           "ticks": "",
           "title": {
            "standoff": 15
           },
           "zerolinecolor": "white",
           "zerolinewidth": 2
          },
          "yaxis": {
           "automargin": true,
           "gridcolor": "white",
           "linecolor": "white",
           "ticks": "",
           "title": {
            "standoff": 15
           },
           "zerolinecolor": "white",
           "zerolinewidth": 2
          }
         }
        },
        "title": {
         "text": "Mean Likes by Sentiment"
        },
        "xaxis": {
         "anchor": "y",
         "domain": [
          0,
          1
         ],
         "title": {
          "text": "Sentiment"
         }
        },
        "yaxis": {
         "anchor": "x",
         "domain": [
          0,
          1
         ],
         "title": {
          "text": "Mean Likes"
         }
        }
       }
      }
     },
     "metadata": {},
     "output_type": "display_data"
    }
   ],
   "source": [
    "fig = px.bar(means, y='favorite_count',x=means.index, title = 'Mean Likes by Sentiment',\n",
    "labels={'favorite_count':'Mean Likes','sentiment_category':'Sentiment'})\n",
    "\n",
    "fig.show()"
   ]
  },
  {
   "cell_type": "code",
   "execution_count": 19,
   "metadata": {},
   "outputs": [
    {
     "data": {
      "application/vnd.plotly.v1+json": {
       "config": {
        "plotlyServerURL": "https://plot.ly"
       },
       "data": [
        {
         "alignmentgroup": "True",
         "hovertemplate": "Sentiment=%{x}<br>Mean Retweets=%{y}<extra></extra>",
         "legendgroup": "",
         "marker": {
          "color": "#636efa",
          "pattern": {
           "shape": ""
          }
         },
         "name": "",
         "offsetgroup": "",
         "orientation": "v",
         "showlegend": false,
         "textposition": "auto",
         "type": "bar",
         "x": [
          "negative",
          "neutral",
          "positive"
         ],
         "xaxis": "x",
         "y": [
          0.030303030303030304,
          0.6805555555555556,
          0.6010928961748634
         ],
         "yaxis": "y"
        }
       ],
       "layout": {
        "barmode": "relative",
        "legend": {
         "tracegroupgap": 0
        },
        "template": {
         "data": {
          "bar": [
           {
            "error_x": {
             "color": "#2a3f5f"
            },
            "error_y": {
             "color": "#2a3f5f"
            },
            "marker": {
             "line": {
              "color": "#E5ECF6",
              "width": 0.5
             },
             "pattern": {
              "fillmode": "overlay",
              "size": 10,
              "solidity": 0.2
             }
            },
            "type": "bar"
           }
          ],
          "barpolar": [
           {
            "marker": {
             "line": {
              "color": "#E5ECF6",
              "width": 0.5
             },
             "pattern": {
              "fillmode": "overlay",
              "size": 10,
              "solidity": 0.2
             }
            },
            "type": "barpolar"
           }
          ],
          "carpet": [
           {
            "aaxis": {
             "endlinecolor": "#2a3f5f",
             "gridcolor": "white",
             "linecolor": "white",
             "minorgridcolor": "white",
             "startlinecolor": "#2a3f5f"
            },
            "baxis": {
             "endlinecolor": "#2a3f5f",
             "gridcolor": "white",
             "linecolor": "white",
             "minorgridcolor": "white",
             "startlinecolor": "#2a3f5f"
            },
            "type": "carpet"
           }
          ],
          "choropleth": [
           {
            "colorbar": {
             "outlinewidth": 0,
             "ticks": ""
            },
            "type": "choropleth"
           }
          ],
          "contour": [
           {
            "colorbar": {
             "outlinewidth": 0,
             "ticks": ""
            },
            "colorscale": [
             [
              0,
              "#0d0887"
             ],
             [
              0.1111111111111111,
              "#46039f"
             ],
             [
              0.2222222222222222,
              "#7201a8"
             ],
             [
              0.3333333333333333,
              "#9c179e"
             ],
             [
              0.4444444444444444,
              "#bd3786"
             ],
             [
              0.5555555555555556,
              "#d8576b"
             ],
             [
              0.6666666666666666,
              "#ed7953"
             ],
             [
              0.7777777777777778,
              "#fb9f3a"
             ],
             [
              0.8888888888888888,
              "#fdca26"
             ],
             [
              1,
              "#f0f921"
             ]
            ],
            "type": "contour"
           }
          ],
          "contourcarpet": [
           {
            "colorbar": {
             "outlinewidth": 0,
             "ticks": ""
            },
            "type": "contourcarpet"
           }
          ],
          "heatmap": [
           {
            "colorbar": {
             "outlinewidth": 0,
             "ticks": ""
            },
            "colorscale": [
             [
              0,
              "#0d0887"
             ],
             [
              0.1111111111111111,
              "#46039f"
             ],
             [
              0.2222222222222222,
              "#7201a8"
             ],
             [
              0.3333333333333333,
              "#9c179e"
             ],
             [
              0.4444444444444444,
              "#bd3786"
             ],
             [
              0.5555555555555556,
              "#d8576b"
             ],
             [
              0.6666666666666666,
              "#ed7953"
             ],
             [
              0.7777777777777778,
              "#fb9f3a"
             ],
             [
              0.8888888888888888,
              "#fdca26"
             ],
             [
              1,
              "#f0f921"
             ]
            ],
            "type": "heatmap"
           }
          ],
          "heatmapgl": [
           {
            "colorbar": {
             "outlinewidth": 0,
             "ticks": ""
            },
            "colorscale": [
             [
              0,
              "#0d0887"
             ],
             [
              0.1111111111111111,
              "#46039f"
             ],
             [
              0.2222222222222222,
              "#7201a8"
             ],
             [
              0.3333333333333333,
              "#9c179e"
             ],
             [
              0.4444444444444444,
              "#bd3786"
             ],
             [
              0.5555555555555556,
              "#d8576b"
             ],
             [
              0.6666666666666666,
              "#ed7953"
             ],
             [
              0.7777777777777778,
              "#fb9f3a"
             ],
             [
              0.8888888888888888,
              "#fdca26"
             ],
             [
              1,
              "#f0f921"
             ]
            ],
            "type": "heatmapgl"
           }
          ],
          "histogram": [
           {
            "marker": {
             "pattern": {
              "fillmode": "overlay",
              "size": 10,
              "solidity": 0.2
             }
            },
            "type": "histogram"
           }
          ],
          "histogram2d": [
           {
            "colorbar": {
             "outlinewidth": 0,
             "ticks": ""
            },
            "colorscale": [
             [
              0,
              "#0d0887"
             ],
             [
              0.1111111111111111,
              "#46039f"
             ],
             [
              0.2222222222222222,
              "#7201a8"
             ],
             [
              0.3333333333333333,
              "#9c179e"
             ],
             [
              0.4444444444444444,
              "#bd3786"
             ],
             [
              0.5555555555555556,
              "#d8576b"
             ],
             [
              0.6666666666666666,
              "#ed7953"
             ],
             [
              0.7777777777777778,
              "#fb9f3a"
             ],
             [
              0.8888888888888888,
              "#fdca26"
             ],
             [
              1,
              "#f0f921"
             ]
            ],
            "type": "histogram2d"
           }
          ],
          "histogram2dcontour": [
           {
            "colorbar": {
             "outlinewidth": 0,
             "ticks": ""
            },
            "colorscale": [
             [
              0,
              "#0d0887"
             ],
             [
              0.1111111111111111,
              "#46039f"
             ],
             [
              0.2222222222222222,
              "#7201a8"
             ],
             [
              0.3333333333333333,
              "#9c179e"
             ],
             [
              0.4444444444444444,
              "#bd3786"
             ],
             [
              0.5555555555555556,
              "#d8576b"
             ],
             [
              0.6666666666666666,
              "#ed7953"
             ],
             [
              0.7777777777777778,
              "#fb9f3a"
             ],
             [
              0.8888888888888888,
              "#fdca26"
             ],
             [
              1,
              "#f0f921"
             ]
            ],
            "type": "histogram2dcontour"
           }
          ],
          "mesh3d": [
           {
            "colorbar": {
             "outlinewidth": 0,
             "ticks": ""
            },
            "type": "mesh3d"
           }
          ],
          "parcoords": [
           {
            "line": {
             "colorbar": {
              "outlinewidth": 0,
              "ticks": ""
             }
            },
            "type": "parcoords"
           }
          ],
          "pie": [
           {
            "automargin": true,
            "type": "pie"
           }
          ],
          "scatter": [
           {
            "marker": {
             "colorbar": {
              "outlinewidth": 0,
              "ticks": ""
             }
            },
            "type": "scatter"
           }
          ],
          "scatter3d": [
           {
            "line": {
             "colorbar": {
              "outlinewidth": 0,
              "ticks": ""
             }
            },
            "marker": {
             "colorbar": {
              "outlinewidth": 0,
              "ticks": ""
             }
            },
            "type": "scatter3d"
           }
          ],
          "scattercarpet": [
           {
            "marker": {
             "colorbar": {
              "outlinewidth": 0,
              "ticks": ""
             }
            },
            "type": "scattercarpet"
           }
          ],
          "scattergeo": [
           {
            "marker": {
             "colorbar": {
              "outlinewidth": 0,
              "ticks": ""
             }
            },
            "type": "scattergeo"
           }
          ],
          "scattergl": [
           {
            "marker": {
             "colorbar": {
              "outlinewidth": 0,
              "ticks": ""
             }
            },
            "type": "scattergl"
           }
          ],
          "scattermapbox": [
           {
            "marker": {
             "colorbar": {
              "outlinewidth": 0,
              "ticks": ""
             }
            },
            "type": "scattermapbox"
           }
          ],
          "scatterpolar": [
           {
            "marker": {
             "colorbar": {
              "outlinewidth": 0,
              "ticks": ""
             }
            },
            "type": "scatterpolar"
           }
          ],
          "scatterpolargl": [
           {
            "marker": {
             "colorbar": {
              "outlinewidth": 0,
              "ticks": ""
             }
            },
            "type": "scatterpolargl"
           }
          ],
          "scatterternary": [
           {
            "marker": {
             "colorbar": {
              "outlinewidth": 0,
              "ticks": ""
             }
            },
            "type": "scatterternary"
           }
          ],
          "surface": [
           {
            "colorbar": {
             "outlinewidth": 0,
             "ticks": ""
            },
            "colorscale": [
             [
              0,
              "#0d0887"
             ],
             [
              0.1111111111111111,
              "#46039f"
             ],
             [
              0.2222222222222222,
              "#7201a8"
             ],
             [
              0.3333333333333333,
              "#9c179e"
             ],
             [
              0.4444444444444444,
              "#bd3786"
             ],
             [
              0.5555555555555556,
              "#d8576b"
             ],
             [
              0.6666666666666666,
              "#ed7953"
             ],
             [
              0.7777777777777778,
              "#fb9f3a"
             ],
             [
              0.8888888888888888,
              "#fdca26"
             ],
             [
              1,
              "#f0f921"
             ]
            ],
            "type": "surface"
           }
          ],
          "table": [
           {
            "cells": {
             "fill": {
              "color": "#EBF0F8"
             },
             "line": {
              "color": "white"
             }
            },
            "header": {
             "fill": {
              "color": "#C8D4E3"
             },
             "line": {
              "color": "white"
             }
            },
            "type": "table"
           }
          ]
         },
         "layout": {
          "annotationdefaults": {
           "arrowcolor": "#2a3f5f",
           "arrowhead": 0,
           "arrowwidth": 1
          },
          "autotypenumbers": "strict",
          "coloraxis": {
           "colorbar": {
            "outlinewidth": 0,
            "ticks": ""
           }
          },
          "colorscale": {
           "diverging": [
            [
             0,
             "#8e0152"
            ],
            [
             0.1,
             "#c51b7d"
            ],
            [
             0.2,
             "#de77ae"
            ],
            [
             0.3,
             "#f1b6da"
            ],
            [
             0.4,
             "#fde0ef"
            ],
            [
             0.5,
             "#f7f7f7"
            ],
            [
             0.6,
             "#e6f5d0"
            ],
            [
             0.7,
             "#b8e186"
            ],
            [
             0.8,
             "#7fbc41"
            ],
            [
             0.9,
             "#4d9221"
            ],
            [
             1,
             "#276419"
            ]
           ],
           "sequential": [
            [
             0,
             "#0d0887"
            ],
            [
             0.1111111111111111,
             "#46039f"
            ],
            [
             0.2222222222222222,
             "#7201a8"
            ],
            [
             0.3333333333333333,
             "#9c179e"
            ],
            [
             0.4444444444444444,
             "#bd3786"
            ],
            [
             0.5555555555555556,
             "#d8576b"
            ],
            [
             0.6666666666666666,
             "#ed7953"
            ],
            [
             0.7777777777777778,
             "#fb9f3a"
            ],
            [
             0.8888888888888888,
             "#fdca26"
            ],
            [
             1,
             "#f0f921"
            ]
           ],
           "sequentialminus": [
            [
             0,
             "#0d0887"
            ],
            [
             0.1111111111111111,
             "#46039f"
            ],
            [
             0.2222222222222222,
             "#7201a8"
            ],
            [
             0.3333333333333333,
             "#9c179e"
            ],
            [
             0.4444444444444444,
             "#bd3786"
            ],
            [
             0.5555555555555556,
             "#d8576b"
            ],
            [
             0.6666666666666666,
             "#ed7953"
            ],
            [
             0.7777777777777778,
             "#fb9f3a"
            ],
            [
             0.8888888888888888,
             "#fdca26"
            ],
            [
             1,
             "#f0f921"
            ]
           ]
          },
          "colorway": [
           "#636efa",
           "#EF553B",
           "#00cc96",
           "#ab63fa",
           "#FFA15A",
           "#19d3f3",
           "#FF6692",
           "#B6E880",
           "#FF97FF",
           "#FECB52"
          ],
          "font": {
           "color": "#2a3f5f"
          },
          "geo": {
           "bgcolor": "white",
           "lakecolor": "white",
           "landcolor": "#E5ECF6",
           "showlakes": true,
           "showland": true,
           "subunitcolor": "white"
          },
          "hoverlabel": {
           "align": "left"
          },
          "hovermode": "closest",
          "mapbox": {
           "style": "light"
          },
          "paper_bgcolor": "white",
          "plot_bgcolor": "#E5ECF6",
          "polar": {
           "angularaxis": {
            "gridcolor": "white",
            "linecolor": "white",
            "ticks": ""
           },
           "bgcolor": "#E5ECF6",
           "radialaxis": {
            "gridcolor": "white",
            "linecolor": "white",
            "ticks": ""
           }
          },
          "scene": {
           "xaxis": {
            "backgroundcolor": "#E5ECF6",
            "gridcolor": "white",
            "gridwidth": 2,
            "linecolor": "white",
            "showbackground": true,
            "ticks": "",
            "zerolinecolor": "white"
           },
           "yaxis": {
            "backgroundcolor": "#E5ECF6",
            "gridcolor": "white",
            "gridwidth": 2,
            "linecolor": "white",
            "showbackground": true,
            "ticks": "",
            "zerolinecolor": "white"
           },
           "zaxis": {
            "backgroundcolor": "#E5ECF6",
            "gridcolor": "white",
            "gridwidth": 2,
            "linecolor": "white",
            "showbackground": true,
            "ticks": "",
            "zerolinecolor": "white"
           }
          },
          "shapedefaults": {
           "line": {
            "color": "#2a3f5f"
           }
          },
          "ternary": {
           "aaxis": {
            "gridcolor": "white",
            "linecolor": "white",
            "ticks": ""
           },
           "baxis": {
            "gridcolor": "white",
            "linecolor": "white",
            "ticks": ""
           },
           "bgcolor": "#E5ECF6",
           "caxis": {
            "gridcolor": "white",
            "linecolor": "white",
            "ticks": ""
           }
          },
          "title": {
           "x": 0.05
          },
          "xaxis": {
           "automargin": true,
           "gridcolor": "white",
           "linecolor": "white",
           "ticks": "",
           "title": {
            "standoff": 15
           },
           "zerolinecolor": "white",
           "zerolinewidth": 2
          },
          "yaxis": {
           "automargin": true,
           "gridcolor": "white",
           "linecolor": "white",
           "ticks": "",
           "title": {
            "standoff": 15
           },
           "zerolinecolor": "white",
           "zerolinewidth": 2
          }
         }
        },
        "title": {
         "text": "Mean Retweets by Sentiment"
        },
        "xaxis": {
         "anchor": "y",
         "domain": [
          0,
          1
         ],
         "title": {
          "text": "Sentiment"
         }
        },
        "yaxis": {
         "anchor": "x",
         "domain": [
          0,
          1
         ],
         "title": {
          "text": "Mean Retweets"
         }
        }
       }
      }
     },
     "metadata": {},
     "output_type": "display_data"
    }
   ],
   "source": [
    "fig = px.bar(means, y='retweet_count', x=means.index, title='Mean Retweets by Sentiment',\n",
    " labels={'retweet_count': 'Mean Retweets', 'sentiment_category': 'Sentiment'})\n",
    "\n",
    "fig.show()\n"
   ]
  },
  {
   "cell_type": "code",
   "execution_count": 20,
   "metadata": {},
   "outputs": [],
   "source": [
    "neu = tweets[tweets['sentiment_category'] == 'neutral']\n",
    "neg = tweets[tweets['sentiment_category']=='negative']\n",
    "pos = tweets[tweets['sentiment_category']=='positive']"
   ]
  },
  {
   "cell_type": "code",
   "execution_count": 21,
   "metadata": {},
   "outputs": [],
   "source": [
    "gruDate = tweets.groupby(['date','sentiment_category'],as_index=False).count()"
   ]
  },
  {
   "cell_type": "code",
   "execution_count": 22,
   "metadata": {},
   "outputs": [
    {
     "data": {
      "application/vnd.plotly.v1+json": {
       "config": {
        "plotlyServerURL": "https://plot.ly"
       },
       "data": [
        {
         "hovertemplate": "Sentiment=negative<br>Date=%{x}<br>Count=%{y}<extra></extra>",
         "legendgroup": "negative",
         "line": {
          "color": "#1b9e77",
          "dash": "solid"
         },
         "marker": {
          "symbol": "circle"
         },
         "mode": "markers+lines",
         "name": "negative",
         "orientation": "v",
         "showlegend": true,
         "type": "scatter",
         "x": [
          "2021-12-01",
          "2021-12-02",
          "2021-12-03",
          "2021-12-04",
          "2021-12-05",
          "2021-12-06"
         ],
         "xaxis": "x",
         "y": [
          6,
          8,
          15,
          19,
          12,
          6
         ],
         "yaxis": "y"
        },
        {
         "hovertemplate": "Sentiment=neutral<br>Date=%{x}<br>Count=%{y}<extra></extra>",
         "legendgroup": "neutral",
         "line": {
          "color": "#7570b3",
          "dash": "solid"
         },
         "marker": {
          "symbol": "circle"
         },
         "mode": "markers+lines",
         "name": "neutral",
         "orientation": "v",
         "showlegend": true,
         "type": "scatter",
         "x": [
          "2021-12-01",
          "2021-12-02",
          "2021-12-03",
          "2021-12-04",
          "2021-12-05",
          "2021-12-06"
         ],
         "xaxis": "x",
         "y": [
          22,
          37,
          20,
          25,
          27,
          13
         ],
         "yaxis": "y"
        },
        {
         "hovertemplate": "Sentiment=positive<br>Date=%{x}<br>Count=%{y}<extra></extra>",
         "legendgroup": "positive",
         "line": {
          "color": "#d95f02",
          "dash": "solid"
         },
         "marker": {
          "symbol": "circle"
         },
         "mode": "markers+lines",
         "name": "positive",
         "orientation": "v",
         "showlegend": true,
         "type": "scatter",
         "x": [
          "2021-12-01",
          "2021-12-02",
          "2021-12-03",
          "2021-12-04",
          "2021-12-05",
          "2021-12-06"
         ],
         "xaxis": "x",
         "y": [
          20,
          44,
          44,
          33,
          29,
          13
         ],
         "yaxis": "y"
        }
       ],
       "layout": {
        "legend": {
         "title": {
          "text": "Sentiment"
         },
         "tracegroupgap": 0
        },
        "template": {
         "data": {
          "bar": [
           {
            "error_x": {
             "color": "#2a3f5f"
            },
            "error_y": {
             "color": "#2a3f5f"
            },
            "marker": {
             "line": {
              "color": "#E5ECF6",
              "width": 0.5
             },
             "pattern": {
              "fillmode": "overlay",
              "size": 10,
              "solidity": 0.2
             }
            },
            "type": "bar"
           }
          ],
          "barpolar": [
           {
            "marker": {
             "line": {
              "color": "#E5ECF6",
              "width": 0.5
             },
             "pattern": {
              "fillmode": "overlay",
              "size": 10,
              "solidity": 0.2
             }
            },
            "type": "barpolar"
           }
          ],
          "carpet": [
           {
            "aaxis": {
             "endlinecolor": "#2a3f5f",
             "gridcolor": "white",
             "linecolor": "white",
             "minorgridcolor": "white",
             "startlinecolor": "#2a3f5f"
            },
            "baxis": {
             "endlinecolor": "#2a3f5f",
             "gridcolor": "white",
             "linecolor": "white",
             "minorgridcolor": "white",
             "startlinecolor": "#2a3f5f"
            },
            "type": "carpet"
           }
          ],
          "choropleth": [
           {
            "colorbar": {
             "outlinewidth": 0,
             "ticks": ""
            },
            "type": "choropleth"
           }
          ],
          "contour": [
           {
            "colorbar": {
             "outlinewidth": 0,
             "ticks": ""
            },
            "colorscale": [
             [
              0,
              "#0d0887"
             ],
             [
              0.1111111111111111,
              "#46039f"
             ],
             [
              0.2222222222222222,
              "#7201a8"
             ],
             [
              0.3333333333333333,
              "#9c179e"
             ],
             [
              0.4444444444444444,
              "#bd3786"
             ],
             [
              0.5555555555555556,
              "#d8576b"
             ],
             [
              0.6666666666666666,
              "#ed7953"
             ],
             [
              0.7777777777777778,
              "#fb9f3a"
             ],
             [
              0.8888888888888888,
              "#fdca26"
             ],
             [
              1,
              "#f0f921"
             ]
            ],
            "type": "contour"
           }
          ],
          "contourcarpet": [
           {
            "colorbar": {
             "outlinewidth": 0,
             "ticks": ""
            },
            "type": "contourcarpet"
           }
          ],
          "heatmap": [
           {
            "colorbar": {
             "outlinewidth": 0,
             "ticks": ""
            },
            "colorscale": [
             [
              0,
              "#0d0887"
             ],
             [
              0.1111111111111111,
              "#46039f"
             ],
             [
              0.2222222222222222,
              "#7201a8"
             ],
             [
              0.3333333333333333,
              "#9c179e"
             ],
             [
              0.4444444444444444,
              "#bd3786"
             ],
             [
              0.5555555555555556,
              "#d8576b"
             ],
             [
              0.6666666666666666,
              "#ed7953"
             ],
             [
              0.7777777777777778,
              "#fb9f3a"
             ],
             [
              0.8888888888888888,
              "#fdca26"
             ],
             [
              1,
              "#f0f921"
             ]
            ],
            "type": "heatmap"
           }
          ],
          "heatmapgl": [
           {
            "colorbar": {
             "outlinewidth": 0,
             "ticks": ""
            },
            "colorscale": [
             [
              0,
              "#0d0887"
             ],
             [
              0.1111111111111111,
              "#46039f"
             ],
             [
              0.2222222222222222,
              "#7201a8"
             ],
             [
              0.3333333333333333,
              "#9c179e"
             ],
             [
              0.4444444444444444,
              "#bd3786"
             ],
             [
              0.5555555555555556,
              "#d8576b"
             ],
             [
              0.6666666666666666,
              "#ed7953"
             ],
             [
              0.7777777777777778,
              "#fb9f3a"
             ],
             [
              0.8888888888888888,
              "#fdca26"
             ],
             [
              1,
              "#f0f921"
             ]
            ],
            "type": "heatmapgl"
           }
          ],
          "histogram": [
           {
            "marker": {
             "pattern": {
              "fillmode": "overlay",
              "size": 10,
              "solidity": 0.2
             }
            },
            "type": "histogram"
           }
          ],
          "histogram2d": [
           {
            "colorbar": {
             "outlinewidth": 0,
             "ticks": ""
            },
            "colorscale": [
             [
              0,
              "#0d0887"
             ],
             [
              0.1111111111111111,
              "#46039f"
             ],
             [
              0.2222222222222222,
              "#7201a8"
             ],
             [
              0.3333333333333333,
              "#9c179e"
             ],
             [
              0.4444444444444444,
              "#bd3786"
             ],
             [
              0.5555555555555556,
              "#d8576b"
             ],
             [
              0.6666666666666666,
              "#ed7953"
             ],
             [
              0.7777777777777778,
              "#fb9f3a"
             ],
             [
              0.8888888888888888,
              "#fdca26"
             ],
             [
              1,
              "#f0f921"
             ]
            ],
            "type": "histogram2d"
           }
          ],
          "histogram2dcontour": [
           {
            "colorbar": {
             "outlinewidth": 0,
             "ticks": ""
            },
            "colorscale": [
             [
              0,
              "#0d0887"
             ],
             [
              0.1111111111111111,
              "#46039f"
             ],
             [
              0.2222222222222222,
              "#7201a8"
             ],
             [
              0.3333333333333333,
              "#9c179e"
             ],
             [
              0.4444444444444444,
              "#bd3786"
             ],
             [
              0.5555555555555556,
              "#d8576b"
             ],
             [
              0.6666666666666666,
              "#ed7953"
             ],
             [
              0.7777777777777778,
              "#fb9f3a"
             ],
             [
              0.8888888888888888,
              "#fdca26"
             ],
             [
              1,
              "#f0f921"
             ]
            ],
            "type": "histogram2dcontour"
           }
          ],
          "mesh3d": [
           {
            "colorbar": {
             "outlinewidth": 0,
             "ticks": ""
            },
            "type": "mesh3d"
           }
          ],
          "parcoords": [
           {
            "line": {
             "colorbar": {
              "outlinewidth": 0,
              "ticks": ""
             }
            },
            "type": "parcoords"
           }
          ],
          "pie": [
           {
            "automargin": true,
            "type": "pie"
           }
          ],
          "scatter": [
           {
            "marker": {
             "colorbar": {
              "outlinewidth": 0,
              "ticks": ""
             }
            },
            "type": "scatter"
           }
          ],
          "scatter3d": [
           {
            "line": {
             "colorbar": {
              "outlinewidth": 0,
              "ticks": ""
             }
            },
            "marker": {
             "colorbar": {
              "outlinewidth": 0,
              "ticks": ""
             }
            },
            "type": "scatter3d"
           }
          ],
          "scattercarpet": [
           {
            "marker": {
             "colorbar": {
              "outlinewidth": 0,
              "ticks": ""
             }
            },
            "type": "scattercarpet"
           }
          ],
          "scattergeo": [
           {
            "marker": {
             "colorbar": {
              "outlinewidth": 0,
              "ticks": ""
             }
            },
            "type": "scattergeo"
           }
          ],
          "scattergl": [
           {
            "marker": {
             "colorbar": {
              "outlinewidth": 0,
              "ticks": ""
             }
            },
            "type": "scattergl"
           }
          ],
          "scattermapbox": [
           {
            "marker": {
             "colorbar": {
              "outlinewidth": 0,
              "ticks": ""
             }
            },
            "type": "scattermapbox"
           }
          ],
          "scatterpolar": [
           {
            "marker": {
             "colorbar": {
              "outlinewidth": 0,
              "ticks": ""
             }
            },
            "type": "scatterpolar"
           }
          ],
          "scatterpolargl": [
           {
            "marker": {
             "colorbar": {
              "outlinewidth": 0,
              "ticks": ""
             }
            },
            "type": "scatterpolargl"
           }
          ],
          "scatterternary": [
           {
            "marker": {
             "colorbar": {
              "outlinewidth": 0,
              "ticks": ""
             }
            },
            "type": "scatterternary"
           }
          ],
          "surface": [
           {
            "colorbar": {
             "outlinewidth": 0,
             "ticks": ""
            },
            "colorscale": [
             [
              0,
              "#0d0887"
             ],
             [
              0.1111111111111111,
              "#46039f"
             ],
             [
              0.2222222222222222,
              "#7201a8"
             ],
             [
              0.3333333333333333,
              "#9c179e"
             ],
             [
              0.4444444444444444,
              "#bd3786"
             ],
             [
              0.5555555555555556,
              "#d8576b"
             ],
             [
              0.6666666666666666,
              "#ed7953"
             ],
             [
              0.7777777777777778,
              "#fb9f3a"
             ],
             [
              0.8888888888888888,
              "#fdca26"
             ],
             [
              1,
              "#f0f921"
             ]
            ],
            "type": "surface"
           }
          ],
          "table": [
           {
            "cells": {
             "fill": {
              "color": "#EBF0F8"
             },
             "line": {
              "color": "white"
             }
            },
            "header": {
             "fill": {
              "color": "#C8D4E3"
             },
             "line": {
              "color": "white"
             }
            },
            "type": "table"
           }
          ]
         },
         "layout": {
          "annotationdefaults": {
           "arrowcolor": "#2a3f5f",
           "arrowhead": 0,
           "arrowwidth": 1
          },
          "autotypenumbers": "strict",
          "coloraxis": {
           "colorbar": {
            "outlinewidth": 0,
            "ticks": ""
           }
          },
          "colorscale": {
           "diverging": [
            [
             0,
             "#8e0152"
            ],
            [
             0.1,
             "#c51b7d"
            ],
            [
             0.2,
             "#de77ae"
            ],
            [
             0.3,
             "#f1b6da"
            ],
            [
             0.4,
             "#fde0ef"
            ],
            [
             0.5,
             "#f7f7f7"
            ],
            [
             0.6,
             "#e6f5d0"
            ],
            [
             0.7,
             "#b8e186"
            ],
            [
             0.8,
             "#7fbc41"
            ],
            [
             0.9,
             "#4d9221"
            ],
            [
             1,
             "#276419"
            ]
           ],
           "sequential": [
            [
             0,
             "#0d0887"
            ],
            [
             0.1111111111111111,
             "#46039f"
            ],
            [
             0.2222222222222222,
             "#7201a8"
            ],
            [
             0.3333333333333333,
             "#9c179e"
            ],
            [
             0.4444444444444444,
             "#bd3786"
            ],
            [
             0.5555555555555556,
             "#d8576b"
            ],
            [
             0.6666666666666666,
             "#ed7953"
            ],
            [
             0.7777777777777778,
             "#fb9f3a"
            ],
            [
             0.8888888888888888,
             "#fdca26"
            ],
            [
             1,
             "#f0f921"
            ]
           ],
           "sequentialminus": [
            [
             0,
             "#0d0887"
            ],
            [
             0.1111111111111111,
             "#46039f"
            ],
            [
             0.2222222222222222,
             "#7201a8"
            ],
            [
             0.3333333333333333,
             "#9c179e"
            ],
            [
             0.4444444444444444,
             "#bd3786"
            ],
            [
             0.5555555555555556,
             "#d8576b"
            ],
            [
             0.6666666666666666,
             "#ed7953"
            ],
            [
             0.7777777777777778,
             "#fb9f3a"
            ],
            [
             0.8888888888888888,
             "#fdca26"
            ],
            [
             1,
             "#f0f921"
            ]
           ]
          },
          "colorway": [
           "#636efa",
           "#EF553B",
           "#00cc96",
           "#ab63fa",
           "#FFA15A",
           "#19d3f3",
           "#FF6692",
           "#B6E880",
           "#FF97FF",
           "#FECB52"
          ],
          "font": {
           "color": "#2a3f5f"
          },
          "geo": {
           "bgcolor": "white",
           "lakecolor": "white",
           "landcolor": "#E5ECF6",
           "showlakes": true,
           "showland": true,
           "subunitcolor": "white"
          },
          "hoverlabel": {
           "align": "left"
          },
          "hovermode": "closest",
          "mapbox": {
           "style": "light"
          },
          "paper_bgcolor": "white",
          "plot_bgcolor": "#E5ECF6",
          "polar": {
           "angularaxis": {
            "gridcolor": "white",
            "linecolor": "white",
            "ticks": ""
           },
           "bgcolor": "#E5ECF6",
           "radialaxis": {
            "gridcolor": "white",
            "linecolor": "white",
            "ticks": ""
           }
          },
          "scene": {
           "xaxis": {
            "backgroundcolor": "#E5ECF6",
            "gridcolor": "white",
            "gridwidth": 2,
            "linecolor": "white",
            "showbackground": true,
            "ticks": "",
            "zerolinecolor": "white"
           },
           "yaxis": {
            "backgroundcolor": "#E5ECF6",
            "gridcolor": "white",
            "gridwidth": 2,
            "linecolor": "white",
            "showbackground": true,
            "ticks": "",
            "zerolinecolor": "white"
           },
           "zaxis": {
            "backgroundcolor": "#E5ECF6",
            "gridcolor": "white",
            "gridwidth": 2,
            "linecolor": "white",
            "showbackground": true,
            "ticks": "",
            "zerolinecolor": "white"
           }
          },
          "shapedefaults": {
           "line": {
            "color": "#2a3f5f"
           }
          },
          "ternary": {
           "aaxis": {
            "gridcolor": "white",
            "linecolor": "white",
            "ticks": ""
           },
           "baxis": {
            "gridcolor": "white",
            "linecolor": "white",
            "ticks": ""
           },
           "bgcolor": "#E5ECF6",
           "caxis": {
            "gridcolor": "white",
            "linecolor": "white",
            "ticks": ""
           }
          },
          "title": {
           "x": 0.05
          },
          "xaxis": {
           "automargin": true,
           "gridcolor": "white",
           "linecolor": "white",
           "ticks": "",
           "title": {
            "standoff": 15
           },
           "zerolinecolor": "white",
           "zerolinewidth": 2
          },
          "yaxis": {
           "automargin": true,
           "gridcolor": "white",
           "linecolor": "white",
           "ticks": "",
           "title": {
            "standoff": 15
           },
           "zerolinecolor": "white",
           "zerolinewidth": 2
          }
         }
        },
        "title": {
         "text": "Tweets by Sentiment over Time"
        },
        "xaxis": {
         "anchor": "y",
         "domain": [
          0,
          1
         ],
         "title": {
          "text": "Date"
         }
        },
        "yaxis": {
         "anchor": "x",
         "domain": [
          0,
          1
         ],
         "title": {
          "text": "Count"
         }
        }
       }
      }
     },
     "metadata": {},
     "output_type": "display_data"
    }
   ],
   "source": [
    "fig = px.line(gruDate,x='date',y='text',color='sentiment_category',markers=True,labels={'text':'Count','date':'Date','sentiment_category':'Sentiment'},color_discrete_sequence=[\"#1b9e77\",'#7570b3','#d95f02'],title='Tweets by Sentiment over Time')\n",
    "fig.show()"
   ]
  },
  {
   "cell_type": "code",
   "execution_count": 23,
   "metadata": {},
   "outputs": [
    {
     "name": "stderr",
     "output_type": "stream",
     "text": [
      "C:\\Users\\ragop\\AppData\\Local\\Temp/ipykernel_8108/2046347919.py:4: SettingWithCopyWarning:\n",
      "\n",
      "\n",
      "A value is trying to be set on a copy of a slice from a DataFrame\n",
      "\n",
      "See the caveats in the documentation: https://pandas.pydata.org/pandas-docs/stable/user_guide/indexing.html#returning-a-view-versus-a-copy\n",
      "\n",
      "C:\\Users\\ragop\\AppData\\Local\\Temp/ipykernel_8108/2046347919.py:7: SettingWithCopyWarning:\n",
      "\n",
      "\n",
      "A value is trying to be set on a copy of a slice from a DataFrame\n",
      "\n",
      "See the caveats in the documentation: https://pandas.pydata.org/pandas-docs/stable/user_guide/indexing.html#returning-a-view-versus-a-copy\n",
      "\n"
     ]
    },
    {
     "data": {
      "text/html": [
       "<div>\n",
       "<style scoped>\n",
       "    .dataframe tbody tr th:only-of-type {\n",
       "        vertical-align: middle;\n",
       "    }\n",
       "\n",
       "    .dataframe tbody tr th {\n",
       "        vertical-align: top;\n",
       "    }\n",
       "\n",
       "    .dataframe thead th {\n",
       "        text-align: right;\n",
       "    }\n",
       "</style>\n",
       "<table border=\"1\" class=\"dataframe\">\n",
       "  <thead>\n",
       "    <tr style=\"text-align: right;\">\n",
       "      <th></th>\n",
       "      <th>created_at</th>\n",
       "      <th>text</th>\n",
       "      <th>entities</th>\n",
       "      <th>retweet_count</th>\n",
       "      <th>favorite_count</th>\n",
       "      <th>date</th>\n",
       "      <th>sentiment</th>\n",
       "      <th>sentiment_category</th>\n",
       "    </tr>\n",
       "  </thead>\n",
       "  <tbody>\n",
       "    <tr>\n",
       "      <th>0</th>\n",
       "      <td>Mon Dec 06 15:53:17 +0000 2021</td>\n",
       "      <td>[omg, glossier, order, came, twooooooo, big, p...</td>\n",
       "      <td>{'hashtags': [], 'symbols': [], 'user_mentions...</td>\n",
       "      <td>0</td>\n",
       "      <td>0</td>\n",
       "      <td>2021-12-06</td>\n",
       "      <td>0.2500</td>\n",
       "      <td>positive</td>\n",
       "    </tr>\n",
       "    <tr>\n",
       "      <th>1</th>\n",
       "      <td>Mon Dec 06 15:15:58 +0000 2021</td>\n",
       "      <td>[omg, theyre, opening, store, london, month]</td>\n",
       "      <td>{'hashtags': [], 'symbols': [], 'user_mentions...</td>\n",
       "      <td>0</td>\n",
       "      <td>1</td>\n",
       "      <td>2021-12-06</td>\n",
       "      <td>0.2500</td>\n",
       "      <td>positive</td>\n",
       "    </tr>\n",
       "    <tr>\n",
       "      <th>2</th>\n",
       "      <td>Mon Dec 06 15:04:02 +0000 2021</td>\n",
       "      <td>[amount, glossier, products, youd, think, im, ...</td>\n",
       "      <td>{'hashtags': [], 'symbols': [], 'user_mentions...</td>\n",
       "      <td>0</td>\n",
       "      <td>0</td>\n",
       "      <td>2021-12-06</td>\n",
       "      <td>0.0000</td>\n",
       "      <td>neutral</td>\n",
       "    </tr>\n",
       "    <tr>\n",
       "      <th>3</th>\n",
       "      <td>Mon Dec 06 14:53:59 +0000 2021</td>\n",
       "      <td>[not, someone, chat, saying, syks, mom, eyebro...</td>\n",
       "      <td>{'hashtags': [], 'symbols': [], 'user_mentions...</td>\n",
       "      <td>0</td>\n",
       "      <td>16</td>\n",
       "      <td>2021-12-06</td>\n",
       "      <td>0.5423</td>\n",
       "      <td>positive</td>\n",
       "    </tr>\n",
       "    <tr>\n",
       "      <th>4</th>\n",
       "      <td>Mon Dec 06 14:24:07 +0000 2021</td>\n",
       "      <td>[really, like, glossiers]</td>\n",
       "      <td>{'hashtags': [], 'symbols': [], 'user_mentions...</td>\n",
       "      <td>0</td>\n",
       "      <td>0</td>\n",
       "      <td>2021-12-06</td>\n",
       "      <td>0.4201</td>\n",
       "      <td>positive</td>\n",
       "    </tr>\n",
       "  </tbody>\n",
       "</table>\n",
       "</div>"
      ],
      "text/plain": [
       "                       created_at  \\\n",
       "0  Mon Dec 06 15:53:17 +0000 2021   \n",
       "1  Mon Dec 06 15:15:58 +0000 2021   \n",
       "2  Mon Dec 06 15:04:02 +0000 2021   \n",
       "3  Mon Dec 06 14:53:59 +0000 2021   \n",
       "4  Mon Dec 06 14:24:07 +0000 2021   \n",
       "\n",
       "                                                text  \\\n",
       "0  [omg, glossier, order, came, twooooooo, big, p...   \n",
       "1       [omg, theyre, opening, store, london, month]   \n",
       "2  [amount, glossier, products, youd, think, im, ...   \n",
       "3  [not, someone, chat, saying, syks, mom, eyebro...   \n",
       "4                          [really, like, glossiers]   \n",
       "\n",
       "                                            entities  retweet_count  \\\n",
       "0  {'hashtags': [], 'symbols': [], 'user_mentions...              0   \n",
       "1  {'hashtags': [], 'symbols': [], 'user_mentions...              0   \n",
       "2  {'hashtags': [], 'symbols': [], 'user_mentions...              0   \n",
       "3  {'hashtags': [], 'symbols': [], 'user_mentions...              0   \n",
       "4  {'hashtags': [], 'symbols': [], 'user_mentions...              0   \n",
       "\n",
       "   favorite_count        date  sentiment sentiment_category  \n",
       "0               0  2021-12-06     0.2500           positive  \n",
       "1               1  2021-12-06     0.2500           positive  \n",
       "2               0  2021-12-06     0.0000            neutral  \n",
       "3              16  2021-12-06     0.5423           positive  \n",
       "4               0  2021-12-06     0.4201           positive  "
      ]
     },
     "execution_count": 23,
     "metadata": {},
     "output_type": "execute_result"
    }
   ],
   "source": [
    "tweets_to_token = tweets\n",
    "\n",
    "for i in range(len(tweets_to_token)):\n",
    "    tweets_to_token['text'][i] = word_tokenize(tweets_to_token[\"text\"][i])\n",
    "\n",
    "for i in range(len(tweets_to_token)):\n",
    "    tweets_to_token['text'][i] = [word for word in tweets_to_token['text'][i] if not word in sw]\n",
    "\n",
    "tweets_to_token.head()"
   ]
  },
  {
   "cell_type": "code",
   "execution_count": 24,
   "metadata": {},
   "outputs": [],
   "source": [
    "# Split raw data into posts and words for analysis.\n",
    "posts = [p\n",
    "         for p in neu.text]\n",
    "\n",
    "\n",
    "words = [w.lower()\n",
    "         for t in posts\n",
    "         for w in t]\n"
   ]
  },
  {
   "cell_type": "code",
   "execution_count": 25,
   "metadata": {},
   "outputs": [],
   "source": [
    "from collections import Counter"
   ]
  },
  {
   "cell_type": "code",
   "execution_count": 26,
   "metadata": {},
   "outputs": [],
   "source": [
    "from prettytable import PrettyTable\n",
    "\n",
    "\n",
    "pt = PrettyTable(field_names=[\"Word\", 'Count'])\n",
    "c = Counter(words)\n",
    "[pt.add_row(kv) for kv in c.most_common()[:50]]\n",
    "pt.align[\"Word\"], pt.align['Count'] = 'l', 'r'  # Set column alignment\n",
    "\n"
   ]
  },
  {
   "cell_type": "code",
   "execution_count": 27,
   "metadata": {},
   "outputs": [
    {
     "data": {
      "text/html": [
       "<table>\n",
       "    <thead>\n",
       "        <tr>\n",
       "            <th>Word</th>\n",
       "            <th>Count</th>\n",
       "        </tr>\n",
       "    </thead>\n",
       "    <tbody>\n",
       "        <tr>\n",
       "            <td> </td>\n",
       "            <td>1681</td>\n",
       "        </tr>\n",
       "        <tr>\n",
       "            <td>e</td>\n",
       "            <td>784</td>\n",
       "        </tr>\n",
       "        <tr>\n",
       "            <td>o</td>\n",
       "            <td>600</td>\n",
       "        </tr>\n",
       "        <tr>\n",
       "            <td>s</td>\n",
       "            <td>584</td>\n",
       "        </tr>\n",
       "        <tr>\n",
       "            <td>i</td>\n",
       "            <td>574</td>\n",
       "        </tr>\n",
       "        <tr>\n",
       "            <td>r</td>\n",
       "            <td>505</td>\n",
       "        </tr>\n",
       "        <tr>\n",
       "            <td>t</td>\n",
       "            <td>497</td>\n",
       "        </tr>\n",
       "        <tr>\n",
       "            <td>a</td>\n",
       "            <td>432</td>\n",
       "        </tr>\n",
       "        <tr>\n",
       "            <td>n</td>\n",
       "            <td>377</td>\n",
       "        </tr>\n",
       "        <tr>\n",
       "            <td>l</td>\n",
       "            <td>325</td>\n",
       "        </tr>\n",
       "    </tbody>\n",
       "</table>"
      ],
      "text/plain": [
       "+------+-------+\n",
       "| Word | Count |\n",
       "+------+-------+\n",
       "|      |  1681 |\n",
       "| e    |   784 |\n",
       "| o    |   600 |\n",
       "| s    |   584 |\n",
       "| i    |   574 |\n",
       "| r    |   505 |\n",
       "| t    |   497 |\n",
       "| a    |   432 |\n",
       "| n    |   377 |\n",
       "| l    |   325 |\n",
       "+------+-------+"
      ]
     },
     "execution_count": 27,
     "metadata": {},
     "output_type": "execute_result"
    }
   ],
   "source": [
    "# Towards the bottom of this top ten we can see that it seems to be words that were part of popularly retweeted tweet. \n",
    "pt[0:10]"
   ]
  },
  {
   "cell_type": "code",
   "execution_count": 28,
   "metadata": {},
   "outputs": [],
   "source": [
    "def getHashtags(entities):\n",
    "    return entities['hashtags']\n",
    "\n",
    "def isAd(tags):\n",
    "    res = False\n",
    "    for tag in tags:\n",
    "        if tag[\"text\"] == (\"ad\"):\n",
    "            res = True\n",
    "        if tag[\"text\"] == (\"adaffiliate\"):\n",
    "            res = True\n",
    "\n",
    "    return res"
   ]
  }
 ],
 "metadata": {
  "interpreter": {
   "hash": "385fc41b826ca594dd4bdb82b4b5c75bbaf06b7586f5b9ff3e5291802eb7e567"
  },
  "kernelspec": {
   "display_name": "Python 3.9.6 64-bit",
   "language": "python",
   "name": "python3"
  },
  "language_info": {
   "codemirror_mode": {
    "name": "ipython",
    "version": 3
   },
   "file_extension": ".py",
   "mimetype": "text/x-python",
   "name": "python",
   "nbconvert_exporter": "python",
   "pygments_lexer": "ipython3",
   "version": "3.9.6"
  },
  "orig_nbformat": 4
 },
 "nbformat": 4,
 "nbformat_minor": 2
}
